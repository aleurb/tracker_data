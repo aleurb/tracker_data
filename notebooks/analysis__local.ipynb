{
 "cells": [
  {
   "cell_type": "markdown",
   "id": "f778f012",
   "metadata": {},
   "source": [
    "```\n",
    "@title : Tracker X data analysis\n",
    "@date  : 20250130 ALUR\n",
    "@author: Aleksandras Urbonas\n",
    "```\n"
   ]
  },
  {
   "cell_type": "markdown",
   "id": "8a165f09",
   "metadata": {},
   "source": [
    "#\n",
    "# Step 1. Load the data\n",
    "Load the files (Activity Sessions, Daily Health Metrics, and Health Metrics Samples) into `Pandas DataFrames`.\n",
    "#"
   ]
  },
  {
   "cell_type": "code",
   "execution_count": 1,
   "id": "de0bfd9e-a617-4320-abf0-5cd051a4a144",
   "metadata": {},
   "outputs": [],
   "source": [
    "\n",
    "\n",
    "import pandas as pd  # load and process data\n",
    "import numpy as np  # process numeric values\n",
    "\n"
   ]
  },
  {
   "cell_type": "markdown",
   "id": "5f939202-35f3-44a5-b2b3-221fd5890f88",
   "metadata": {},
   "source": [
    "##\n",
    "## Daily\n",
    "##"
   ]
  },
  {
   "cell_type": "code",
   "execution_count": 2,
   "id": "297ccf52-caf2-46d7-aad5-5f30300315f5",
   "metadata": {
    "scrolled": true
   },
   "outputs": [
    {
     "data": {
      "text/html": [
       "<div>\n",
       "<style scoped>\n",
       "    .dataframe tbody tr th:only-of-type {\n",
       "        vertical-align: middle;\n",
       "    }\n",
       "\n",
       "    .dataframe tbody tr th {\n",
       "        vertical-align: top;\n",
       "    }\n",
       "\n",
       "    .dataframe thead th {\n",
       "        text-align: right;\n",
       "    }\n",
       "</style>\n",
       "<table border=\"1\" class=\"dataframe\">\n",
       "  <thead>\n",
       "    <tr style=\"text-align: right;\">\n",
       "      <th></th>\n",
       "      <th>PK_HEALTH_METRICS_HEART_ID</th>\n",
       "      <th>FK_USER_ID</th>\n",
       "      <th>DATE</th>\n",
       "      <th>TIMEZONE_OFFSET</th>\n",
       "      <th>RESTING_HR</th>\n",
       "      <th>MIN_HR</th>\n",
       "      <th>AVG_HR</th>\n",
       "      <th>MAX_HR</th>\n",
       "      <th>SOURCE</th>\n",
       "      <th>HEART_RATE_VARIABILITY_DAY_HRV</th>\n",
       "      <th>HEART_RATE_VARIABILITY_SLEEP_HRV</th>\n",
       "      <th>CREATED_DATE</th>\n",
       "      <th>LAST_MODIFIED_DATE</th>\n",
       "      <th>ROW_IS_VALID</th>\n",
       "    </tr>\n",
       "  </thead>\n",
       "  <tbody>\n",
       "    <tr>\n",
       "      <th>0</th>\n",
       "      <td>1</td>\n",
       "      <td>14064</td>\n",
       "      <td>2024-09-08</td>\n",
       "      <td>10800</td>\n",
       "      <td>65.0</td>\n",
       "      <td>60</td>\n",
       "      <td>73.0</td>\n",
       "      <td>133</td>\n",
       "      <td>apple</td>\n",
       "      <td>NaN</td>\n",
       "      <td>NaN</td>\n",
       "      <td>2024-09-11 09:56:50</td>\n",
       "      <td>2024-09-11 09:56:50</td>\n",
       "      <td>1</td>\n",
       "    </tr>\n",
       "    <tr>\n",
       "      <th>1</th>\n",
       "      <td>2</td>\n",
       "      <td>14064</td>\n",
       "      <td>2024-09-09</td>\n",
       "      <td>10800</td>\n",
       "      <td>65.0</td>\n",
       "      <td>60</td>\n",
       "      <td>73.0</td>\n",
       "      <td>133</td>\n",
       "      <td>apple</td>\n",
       "      <td>NaN</td>\n",
       "      <td>NaN</td>\n",
       "      <td>2024-09-11 09:56:52</td>\n",
       "      <td>2024-09-11 09:56:52</td>\n",
       "      <td>1</td>\n",
       "    </tr>\n",
       "  </tbody>\n",
       "</table>\n",
       "</div>"
      ],
      "text/plain": [
       "   PK_HEALTH_METRICS_HEART_ID  FK_USER_ID        DATE  TIMEZONE_OFFSET  \\\n",
       "0                           1       14064  2024-09-08            10800   \n",
       "1                           2       14064  2024-09-09            10800   \n",
       "\n",
       "   RESTING_HR  MIN_HR  AVG_HR  MAX_HR SOURCE  HEART_RATE_VARIABILITY_DAY_HRV  \\\n",
       "0        65.0      60    73.0     133  apple                             NaN   \n",
       "1        65.0      60    73.0     133  apple                             NaN   \n",
       "\n",
       "   HEART_RATE_VARIABILITY_SLEEP_HRV         CREATED_DATE   LAST_MODIFIED_DATE  \\\n",
       "0                               NaN  2024-09-11 09:56:50  2024-09-11 09:56:50   \n",
       "1                               NaN  2024-09-11 09:56:52  2024-09-11 09:56:52   \n",
       "\n",
       "   ROW_IS_VALID  \n",
       "0             1  \n",
       "1             1  "
      ]
     },
     "execution_count": 2,
     "metadata": {},
     "output_type": "execute_result"
    }
   ],
   "source": [
    "\n",
    "\n",
    "# Load the data\n",
    "daily__raw = pd.read_csv(\n",
    "    '../data/00_original/health_metrics_daily_2025-01-28.csv'\n",
    "# , index_col='PK_HEALTH_METRICS_HEART_ID'\n",
    ")\n",
    "\n",
    "# preview\n",
    "daily__raw.head(2)\n",
    "\n"
   ]
  },
  {
   "cell_type": "code",
   "execution_count": 3,
   "id": "df7a15c4-6a23-44ae-b1d8-cfb6b881f6a5",
   "metadata": {},
   "outputs": [],
   "source": [
    "\n",
    "\n",
    "# working dataset\n",
    "daily__dev = daily__raw.copy()\n",
    "\n"
   ]
  },
  {
   "cell_type": "code",
   "execution_count": 4,
   "id": "468b2508-f255-40d5-8126-cead6bf95b48",
   "metadata": {},
   "outputs": [
    {
     "name": "stdout",
     "output_type": "stream",
     "text": [
      "<class 'pandas.core.frame.DataFrame'>\n",
      "RangeIndex: 166409 entries, 0 to 166408\n",
      "Data columns (total 14 columns):\n",
      " #   Column                            Non-Null Count   Dtype  \n",
      "---  ------                            --------------   -----  \n",
      " 0   PK_HEALTH_METRICS_HEART_ID        166409 non-null  int64  \n",
      " 1   FK_USER_ID                        166409 non-null  int64  \n",
      " 2   DATE                              166409 non-null  object \n",
      " 3   TIMEZONE_OFFSET                   166409 non-null  int64  \n",
      " 4   RESTING_HR                        140727 non-null  float64\n",
      " 5   MIN_HR                            166409 non-null  int64  \n",
      " 6   AVG_HR                            166377 non-null  float64\n",
      " 7   MAX_HR                            166409 non-null  int64  \n",
      " 8   SOURCE                            166409 non-null  object \n",
      " 9   HEART_RATE_VARIABILITY_DAY_HRV    0 non-null       float64\n",
      " 10  HEART_RATE_VARIABILITY_SLEEP_HRV  0 non-null       float64\n",
      " 11  CREATED_DATE                      166409 non-null  object \n",
      " 12  LAST_MODIFIED_DATE                166409 non-null  object \n",
      " 13  ROW_IS_VALID                      166409 non-null  int64  \n",
      "dtypes: float64(4), int64(6), object(4)\n",
      "memory usage: 17.8+ MB\n"
     ]
    }
   ],
   "source": [
    "\n",
    "\n",
    "# columns check\n",
    "daily__dev.info()\n",
    "\n"
   ]
  },
  {
   "cell_type": "code",
   "execution_count": 5,
   "id": "2974cec1-5604-4561-8b26-4c427dab5653",
   "metadata": {},
   "outputs": [],
   "source": [
    "\n",
    "\n",
    "# only keep valid rows\n",
    "daily__dev = daily__dev[daily__dev['ROW_IS_VALID'] == 1]\n",
    "\n",
    "del daily__dev['ROW_IS_VALID']\n",
    "\n"
   ]
  },
  {
   "cell_type": "code",
   "execution_count": 6,
   "id": "1a8268a3-bf4b-4628-89b7-4de3d30f905b",
   "metadata": {},
   "outputs": [],
   "source": [
    "\n",
    "\n",
    "# drop timezone: already included\n",
    "del daily__dev['TIMEZONE_OFFSET']\n",
    "\n"
   ]
  },
  {
   "cell_type": "code",
   "execution_count": 7,
   "id": "e777a67f-81b5-4236-a048-153972667570",
   "metadata": {},
   "outputs": [],
   "source": [
    "\n",
    "\n",
    "# drop system timestamps\n",
    "del daily__dev['CREATED_DATE']\n",
    "del daily__dev['LAST_MODIFIED_DATE']\n",
    "\n"
   ]
  },
  {
   "cell_type": "code",
   "execution_count": 8,
   "id": "e7645169-39a7-4c21-b121-d7b85d0ee9aa",
   "metadata": {},
   "outputs": [],
   "source": [
    "\n",
    "\n",
    "# A-1. invalid date in on row:\n",
    "drop_daily_date_idx = daily__dev[daily__dev['DATE'] == '0001-01-01'].index\n",
    "# FK_USER_ID=21775, PK_HEALTH_METRICS_HEART_ID=790\n",
    "\n",
    "# A-2. drop invalid row\n",
    "daily__dev = daily__dev.drop(drop_daily_date_idx)\n",
    "\n"
   ]
  },
  {
   "cell_type": "code",
   "execution_count": 9,
   "id": "bc4a26c3-52b8-4ab1-8c1a-f62abe1dbfda",
   "metadata": {},
   "outputs": [],
   "source": [
    "\n",
    "\n",
    "# B. convert datetime\n",
    "daily__dev['DATE'] = pd.to_datetime(daily__dev['DATE']) #, format='mixed')\n",
    "daily__dev['DATE'] = daily__dev['DATE'].dt.date #, format='mixed')\n",
    "\n",
    "# Error:\n",
    "# OutOfBoundsDatetime: Out of bounds nanosecond timestamp: 0001-01-01, at position 5. You might want to try:\n",
    "#     - passing `format` if your strings have a consistent format;\n",
    "#     - passing `format='ISO8601'` if your strings are all ISO8601 but not necessarily in exactly the same format;\n",
    "#     - passing `format='mixed'`, and the format will be inferred for each element individually. You might want to use `dayfirst` alongside this.\n",
    "\n",
    "# rename date column:\n",
    "daily__dev.rename({'DATE':'DAILY_DATE'}, axis='columns', inplace=True)\n",
    "\n"
   ]
  },
  {
   "cell_type": "code",
   "execution_count": 10,
   "id": "ddb29f2a-8593-4b1a-89eb-e888e759f563",
   "metadata": {},
   "outputs": [
    {
     "name": "stdout",
     "output_type": "stream",
     "text": [
      "PK_HEALTH_METRICS_HEART_ID               0\n",
      "FK_USER_ID                               0\n",
      "DAILY_DATE                               0\n",
      "RESTING_HR                           25681\n",
      "MIN_HR                                   0\n",
      "AVG_HR                                  32\n",
      "MAX_HR                                   0\n",
      "SOURCE                                   0\n",
      "HEART_RATE_VARIABILITY_DAY_HRV      166408\n",
      "HEART_RATE_VARIABILITY_SLEEP_HRV    166408\n",
      "dtype: int64\n"
     ]
    }
   ],
   "source": [
    "\n",
    "\n",
    "# Check for missing data\n",
    "print(daily__dev.isnull().sum())\n",
    "\n"
   ]
  },
  {
   "cell_type": "code",
   "execution_count": 11,
   "id": "cac36cef-ae9f-4e54-a027-abd403e69b9a",
   "metadata": {},
   "outputs": [],
   "source": [
    "\n",
    "\n",
    "# A-1. invalid date in on row:\n",
    "drop_daily_avg_hr_idx = daily__dev[daily__dev['AVG_HR'].isnull()].index\n",
    "# FK_USER_ID=21775, PK_HEALTH_METRICS_HEART_ID=790\n",
    "\n",
    "# A-2. drop invalid row\n",
    "daily__dev = daily__dev.drop(drop_daily_avg_hr_idx)\n",
    "\n"
   ]
  },
  {
   "cell_type": "code",
   "execution_count": 12,
   "id": "ee212a5e-26e0-4501-b6fc-05fe19094959",
   "metadata": {},
   "outputs": [],
   "source": [
    "\n",
    "\n",
    "del daily__dev['HEART_RATE_VARIABILITY_DAY_HRV']  # all null\n",
    "del daily__dev['HEART_RATE_VARIABILITY_SLEEP_HRV']  # all null\n",
    "\n"
   ]
  },
  {
   "cell_type": "code",
   "execution_count": 13,
   "id": "657e70a6-5f65-48c6-8b86-c5a0574398c0",
   "metadata": {},
   "outputs": [],
   "source": [
    "\n",
    "\n",
    "# review missing data\n",
    "# daily__dev[daily__dev['RESTING_HR'].isnull()].head(1)\n",
    "# 15-20% are null negative timezeone?\n",
    "\n",
    "# removing: out of scope. focus on AVG_HR.\n",
    "del daily__dev['RESTING_HR']\n",
    "del daily__dev['MIN_HR']\n",
    "del daily__dev['MAX_HR']\n",
    "\n"
   ]
  },
  {
   "cell_type": "code",
   "execution_count": 14,
   "id": "74299420-3462-42b9-a9ce-9de27ed7f135",
   "metadata": {},
   "outputs": [
    {
     "name": "stdout",
     "output_type": "stream",
     "text": [
      "* Rows selected: 166376\n"
     ]
    },
    {
     "data": {
      "text/html": [
       "<div>\n",
       "<style scoped>\n",
       "    .dataframe tbody tr th:only-of-type {\n",
       "        vertical-align: middle;\n",
       "    }\n",
       "\n",
       "    .dataframe tbody tr th {\n",
       "        vertical-align: top;\n",
       "    }\n",
       "\n",
       "    .dataframe thead th {\n",
       "        text-align: right;\n",
       "    }\n",
       "</style>\n",
       "<table border=\"1\" class=\"dataframe\">\n",
       "  <thead>\n",
       "    <tr style=\"text-align: right;\">\n",
       "      <th></th>\n",
       "      <th>PK_HEALTH_METRICS_HEART_ID</th>\n",
       "      <th>FK_USER_ID</th>\n",
       "      <th>DAILY_DATE</th>\n",
       "      <th>AVG_HR</th>\n",
       "      <th>SOURCE</th>\n",
       "    </tr>\n",
       "  </thead>\n",
       "  <tbody>\n",
       "    <tr>\n",
       "      <th>0</th>\n",
       "      <td>1</td>\n",
       "      <td>14064</td>\n",
       "      <td>2024-09-08</td>\n",
       "      <td>73.0</td>\n",
       "      <td>apple</td>\n",
       "    </tr>\n",
       "    <tr>\n",
       "      <th>1</th>\n",
       "      <td>2</td>\n",
       "      <td>14064</td>\n",
       "      <td>2024-09-09</td>\n",
       "      <td>73.0</td>\n",
       "      <td>apple</td>\n",
       "    </tr>\n",
       "  </tbody>\n",
       "</table>\n",
       "</div>"
      ],
      "text/plain": [
       "   PK_HEALTH_METRICS_HEART_ID  FK_USER_ID  DAILY_DATE  AVG_HR SOURCE\n",
       "0                           1       14064  2024-09-08    73.0  apple\n",
       "1                           2       14064  2024-09-09    73.0  apple"
      ]
     },
     "execution_count": 14,
     "metadata": {},
     "output_type": "execute_result"
    }
   ],
   "source": [
    "\n",
    "\n",
    "# Select first user in data\n",
    "# users_sample_list = 14064\n",
    "\n",
    "# Randomly sample N users\n",
    "# users_sample_list = daily__dev['FK_USER_ID'].sample(n=1000, random_state=88888888).to_list()\n",
    "# # use list from Sessions\n",
    "# print(f\"* Users sampled: {users_sample_list[:3]}\")\n",
    "\n",
    "# select sample of users\n",
    "# daily__user = daily__dev[daily__dev['FK_USER_ID'].isin(users_sample_list)]\n",
    "\n",
    "# or go full\n",
    "daily__user = daily__dev\n",
    "print(f\"* Rows selected: {daily__user.shape[0]}\")\n",
    "\n",
    "# Preview\n",
    "daily__user.head(2)\n",
    "\n",
    "# 143 records\n",
    "# FK: PK_HEALTH_METRICS_HEART_ID\n",
    "\n"
   ]
  },
  {
   "cell_type": "code",
   "execution_count": 15,
   "id": "a27675de-7209-436f-bd35-cbefadda1e6f",
   "metadata": {},
   "outputs": [
    {
     "data": {
      "text/html": [
       "<div>\n",
       "<style scoped>\n",
       "    .dataframe tbody tr th:only-of-type {\n",
       "        vertical-align: middle;\n",
       "    }\n",
       "\n",
       "    .dataframe tbody tr th {\n",
       "        vertical-align: top;\n",
       "    }\n",
       "\n",
       "    .dataframe thead th {\n",
       "        text-align: right;\n",
       "    }\n",
       "</style>\n",
       "<table border=\"1\" class=\"dataframe\">\n",
       "  <thead>\n",
       "    <tr style=\"text-align: right;\">\n",
       "      <th></th>\n",
       "      <th>PK_HEALTH_METRICS_HEART_ID</th>\n",
       "      <th>FK_USER_ID</th>\n",
       "      <th>AVG_HR</th>\n",
       "    </tr>\n",
       "  </thead>\n",
       "  <tbody>\n",
       "    <tr>\n",
       "      <th>count</th>\n",
       "      <td>166376.000000</td>\n",
       "      <td>166376.000000</td>\n",
       "      <td>166376.000000</td>\n",
       "    </tr>\n",
       "    <tr>\n",
       "      <th>mean</th>\n",
       "      <td>83202.463210</td>\n",
       "      <td>40798.078990</td>\n",
       "      <td>77.023723</td>\n",
       "    </tr>\n",
       "    <tr>\n",
       "      <th>std</th>\n",
       "      <td>48038.772859</td>\n",
       "      <td>15566.595162</td>\n",
       "      <td>12.990491</td>\n",
       "    </tr>\n",
       "    <tr>\n",
       "      <th>min</th>\n",
       "      <td>1.000000</td>\n",
       "      <td>120.000000</td>\n",
       "      <td>-15.000000</td>\n",
       "    </tr>\n",
       "    <tr>\n",
       "      <th>25%</th>\n",
       "      <td>41598.750000</td>\n",
       "      <td>31339.000000</td>\n",
       "      <td>69.000000</td>\n",
       "    </tr>\n",
       "    <tr>\n",
       "      <th>50%</th>\n",
       "      <td>83203.500000</td>\n",
       "      <td>41537.000000</td>\n",
       "      <td>76.000000</td>\n",
       "    </tr>\n",
       "    <tr>\n",
       "      <th>75%</th>\n",
       "      <td>124804.250000</td>\n",
       "      <td>53507.000000</td>\n",
       "      <td>84.000000</td>\n",
       "    </tr>\n",
       "    <tr>\n",
       "      <th>max</th>\n",
       "      <td>166409.000000</td>\n",
       "      <td>76004.000000</td>\n",
       "      <td>181.000000</td>\n",
       "    </tr>\n",
       "  </tbody>\n",
       "</table>\n",
       "</div>"
      ],
      "text/plain": [
       "       PK_HEALTH_METRICS_HEART_ID     FK_USER_ID         AVG_HR\n",
       "count               166376.000000  166376.000000  166376.000000\n",
       "mean                 83202.463210   40798.078990      77.023723\n",
       "std                  48038.772859   15566.595162      12.990491\n",
       "min                      1.000000     120.000000     -15.000000\n",
       "25%                  41598.750000   31339.000000      69.000000\n",
       "50%                  83203.500000   41537.000000      76.000000\n",
       "75%                 124804.250000   53507.000000      84.000000\n",
       "max                 166409.000000   76004.000000     181.000000"
      ]
     },
     "execution_count": 15,
     "metadata": {},
     "output_type": "execute_result"
    }
   ],
   "source": [
    "\n",
    "\n",
    "#summary\n",
    "daily__user.describe()\n",
    "\n"
   ]
  },
  {
   "cell_type": "code",
   "execution_count": 16,
   "id": "1720e602-aef7-4772-92c4-6a426995312a",
   "metadata": {},
   "outputs": [],
   "source": [
    "\n",
    "\n",
    "# write to file for analysis\n",
    "daily__user.to_csv('daily__user.csv')\n",
    "\n"
   ]
  },
  {
   "cell_type": "markdown",
   "id": "d7b4d5fa-afae-49f5-a140-39670e166133",
   "metadata": {},
   "source": [
    "##\n",
    "## Sessions\n",
    "##"
   ]
  },
  {
   "cell_type": "code",
   "execution_count": 17,
   "id": "cc36c7c6-b96d-4bd3-a2a1-797d3fbbe91e",
   "metadata": {},
   "outputs": [
    {
     "data": {
      "text/html": [
       "<div>\n",
       "<style scoped>\n",
       "    .dataframe tbody tr th:only-of-type {\n",
       "        vertical-align: middle;\n",
       "    }\n",
       "\n",
       "    .dataframe tbody tr th {\n",
       "        vertical-align: top;\n",
       "    }\n",
       "\n",
       "    .dataframe thead th {\n",
       "        text-align: right;\n",
       "    }\n",
       "</style>\n",
       "<table border=\"1\" class=\"dataframe\">\n",
       "  <thead>\n",
       "    <tr style=\"text-align: right;\">\n",
       "      <th></th>\n",
       "      <th>PK_ACTIVITY_SESSION_ID</th>\n",
       "      <th>CREATED_DATE</th>\n",
       "      <th>LAST_MODIFIED_DATE</th>\n",
       "      <th>ROW_IS_VALID</th>\n",
       "      <th>FK_USER_ID</th>\n",
       "      <th>FK_SYSTEM_PROGRAM_ID</th>\n",
       "      <th>START_DATE</th>\n",
       "      <th>END_DATE</th>\n",
       "      <th>FK_REFERENCE_ID</th>\n",
       "      <th>SESSION_TYPE</th>\n",
       "      <th>IS_FINISHED</th>\n",
       "      <th>INTENSITY</th>\n",
       "      <th>RATING</th>\n",
       "      <th>RATING_ISSUE</th>\n",
       "      <th>RATING_ISSUE_MESSAGE</th>\n",
       "    </tr>\n",
       "  </thead>\n",
       "  <tbody>\n",
       "    <tr>\n",
       "      <th>0</th>\n",
       "      <td>1</td>\n",
       "      <td>2024-04-02 11:15:07</td>\n",
       "      <td>2024-04-02 11:15:07</td>\n",
       "      <td>1</td>\n",
       "      <td>3</td>\n",
       "      <td>1</td>\n",
       "      <td>2024-04-02 11:09:40</td>\n",
       "      <td>2024-04-02 11:15:07</td>\n",
       "      <td>1</td>\n",
       "      <td>Program</td>\n",
       "      <td>1</td>\n",
       "      <td>NaN</td>\n",
       "      <td>NaN</td>\n",
       "      <td>NaN</td>\n",
       "      <td>NaN</td>\n",
       "    </tr>\n",
       "    <tr>\n",
       "      <th>1</th>\n",
       "      <td>2</td>\n",
       "      <td>2024-04-04 07:51:07</td>\n",
       "      <td>2024-04-04 07:51:07</td>\n",
       "      <td>1</td>\n",
       "      <td>215</td>\n",
       "      <td>1</td>\n",
       "      <td>2024-04-04 07:47:05</td>\n",
       "      <td>2024-04-04 07:51:07</td>\n",
       "      <td>1</td>\n",
       "      <td>Program</td>\n",
       "      <td>1</td>\n",
       "      <td>NaN</td>\n",
       "      <td>NaN</td>\n",
       "      <td>NaN</td>\n",
       "      <td>NaN</td>\n",
       "    </tr>\n",
       "  </tbody>\n",
       "</table>\n",
       "</div>"
      ],
      "text/plain": [
       "   PK_ACTIVITY_SESSION_ID         CREATED_DATE   LAST_MODIFIED_DATE  \\\n",
       "0                       1  2024-04-02 11:15:07  2024-04-02 11:15:07   \n",
       "1                       2  2024-04-04 07:51:07  2024-04-04 07:51:07   \n",
       "\n",
       "   ROW_IS_VALID  FK_USER_ID  FK_SYSTEM_PROGRAM_ID           START_DATE  \\\n",
       "0             1           3                     1  2024-04-02 11:09:40   \n",
       "1             1         215                     1  2024-04-04 07:47:05   \n",
       "\n",
       "              END_DATE  FK_REFERENCE_ID SESSION_TYPE  IS_FINISHED  INTENSITY  \\\n",
       "0  2024-04-02 11:15:07                1      Program            1        NaN   \n",
       "1  2024-04-04 07:51:07                1      Program            1        NaN   \n",
       "\n",
       "   RATING RATING_ISSUE RATING_ISSUE_MESSAGE  \n",
       "0     NaN          NaN                  NaN  \n",
       "1     NaN          NaN                  NaN  "
      ]
     },
     "execution_count": 17,
     "metadata": {},
     "output_type": "execute_result"
    }
   ],
   "source": [
    "\n",
    "\n",
    "# Load the data\n",
    "sessions__raw = pd.read_csv(\n",
    "    '../data/00_original/activity_sessions_2025-01-28.csv'\n",
    "# , index_col='PK_ACTIVITY_SESSION_ID'\n",
    ", low_memory=False  # DtypeWarning: Columns (13,14) have mixed types\n",
    ")\n",
    "\n",
    "# preview\n",
    "sessions__raw.head(2)\n",
    "\n"
   ]
  },
  {
   "cell_type": "code",
   "execution_count": 18,
   "id": "174ac177-9789-487a-b071-47b326a2e5f9",
   "metadata": {},
   "outputs": [],
   "source": [
    "\n",
    "\n",
    "# working copy\n",
    "sessions__dev = sessions__raw.copy()\n",
    "\n"
   ]
  },
  {
   "cell_type": "code",
   "execution_count": 19,
   "id": "e5dd780a-4404-423a-aeaf-bf59475182ac",
   "metadata": {},
   "outputs": [
    {
     "name": "stdout",
     "output_type": "stream",
     "text": [
      "<class 'pandas.core.frame.DataFrame'>\n",
      "RangeIndex: 1930677 entries, 0 to 1930676\n",
      "Data columns (total 15 columns):\n",
      " #   Column                  Dtype  \n",
      "---  ------                  -----  \n",
      " 0   PK_ACTIVITY_SESSION_ID  int64  \n",
      " 1   CREATED_DATE            object \n",
      " 2   LAST_MODIFIED_DATE      object \n",
      " 3   ROW_IS_VALID            int64  \n",
      " 4   FK_USER_ID              int64  \n",
      " 5   FK_SYSTEM_PROGRAM_ID    int64  \n",
      " 6   START_DATE              object \n",
      " 7   END_DATE                object \n",
      " 8   FK_REFERENCE_ID         int64  \n",
      " 9   SESSION_TYPE            object \n",
      " 10  IS_FINISHED             int64  \n",
      " 11  INTENSITY               float64\n",
      " 12  RATING                  float64\n",
      " 13  RATING_ISSUE            object \n",
      " 14  RATING_ISSUE_MESSAGE    object \n",
      "dtypes: float64(2), int64(6), object(7)\n",
      "memory usage: 220.9+ MB\n"
     ]
    }
   ],
   "source": [
    "\n",
    "\n",
    "# review dataset\n",
    "sessions__dev.info()\n",
    "\n"
   ]
  },
  {
   "cell_type": "code",
   "execution_count": 20,
   "id": "a3219f62-2027-465f-a54b-2856bb59b786",
   "metadata": {},
   "outputs": [
    {
     "name": "stdout",
     "output_type": "stream",
     "text": [
      "PK_ACTIVITY_SESSION_ID          0\n",
      "CREATED_DATE                    0\n",
      "LAST_MODIFIED_DATE              0\n",
      "ROW_IS_VALID                    0\n",
      "FK_USER_ID                      0\n",
      "FK_SYSTEM_PROGRAM_ID            0\n",
      "START_DATE                      0\n",
      "END_DATE                        0\n",
      "FK_REFERENCE_ID                 0\n",
      "SESSION_TYPE                    0\n",
      "IS_FINISHED                     0\n",
      "INTENSITY                  684883\n",
      "RATING                    1491032\n",
      "RATING_ISSUE              1928737\n",
      "RATING_ISSUE_MESSAGE      1930085\n",
      "dtype: int64\n"
     ]
    }
   ],
   "source": [
    "\n",
    "\n",
    "# Check for missing data\n",
    "print(sessions__dev.isnull().sum())\n",
    "# INTENSITY                  684883\n",
    "# RATING                    1491032\n",
    "# RATING_ISSUE              1928737\n",
    "# RATING_ISSUE_MESSAGE      1930085\n",
    "\n"
   ]
  },
  {
   "cell_type": "code",
   "execution_count": 21,
   "id": "04190b03-6907-407b-b00f-e35a0f96bf7b",
   "metadata": {},
   "outputs": [],
   "source": [
    "\n",
    "\n",
    "# include only valid rows\n",
    "sessions__dev = sessions__dev[sessions__dev['ROW_IS_VALID'] == 1]\n",
    "# delete redundant columns:\n",
    "del sessions__dev['ROW_IS_VALID']\n",
    "\n"
   ]
  },
  {
   "cell_type": "code",
   "execution_count": 22,
   "id": "68cf690c-4da5-4152-8743-6ad2b1f50d40",
   "metadata": {},
   "outputs": [],
   "source": [
    "\n",
    "\n",
    "# include: only finished sessions\n",
    "sessions__dev = sessions__dev[sessions__dev['IS_FINISHED'] == 1]\n",
    "# delete redundant columns\n",
    "del sessions__dev['IS_FINISHED']\n",
    "\n"
   ]
  },
  {
   "cell_type": "code",
   "execution_count": 23,
   "id": "38c2e623-bf54-4f83-bc2f-704efbd5b945",
   "metadata": {},
   "outputs": [],
   "source": [
    "\n",
    "\n",
    "# remove primary key, unused:\n",
    "del sessions__dev['PK_ACTIVITY_SESSION_ID']\n",
    "\n"
   ]
  },
  {
   "cell_type": "code",
   "execution_count": 24,
   "id": "af02fc39-a672-4d65-a8ad-ce9dba6894f7",
   "metadata": {},
   "outputs": [],
   "source": [
    "\n",
    "\n",
    "# delete redundant system columns\n",
    "del sessions__dev['CREATED_DATE']  # end of session: out of scope\n",
    "del sessions__dev['LAST_MODIFIED_DATE']  # use for modifications: out of scope\n",
    "\n"
   ]
  },
  {
   "cell_type": "code",
   "execution_count": 25,
   "id": "6a94a1e5-2929-4568-ab01-0090e3ecf014",
   "metadata": {},
   "outputs": [],
   "source": [
    "\n",
    "\n",
    "# Ratings: few records have such info: DECISION to remove from current analysis\n",
    "del sessions__dev['RATING']\n",
    "del sessions__dev['RATING_ISSUE']\n",
    "del sessions__dev['RATING_ISSUE_MESSAGE']\n",
    "\n"
   ]
  },
  {
   "cell_type": "code",
   "execution_count": 26,
   "id": "37fce8bf-761f-4e45-88be-c35ea05349a5",
   "metadata": {},
   "outputs": [
    {
     "name": "stdout",
     "output_type": "stream",
     "text": [
      "1245758\n"
     ]
    }
   ],
   "source": [
    "\n",
    "\n",
    "# FK_SYSTEM_PROGRAM_ID == FK_REFERENCE_ID?\n",
    "print(sessions__dev['FK_SYSTEM_PROGRAM_ID'][sessions__dev['FK_SYSTEM_PROGRAM_ID'] != sessions__dev['FK_REFERENCE_ID']].count())\n",
    "\n",
    "# FK_SYSTEM_PROGRAM_ID=0, when INTENSITY variable is populated.\n",
    "# So, FK_REFERENCE_ID is more specific.\n",
    "# DECISION: remove less specific variable\n",
    "del sessions__dev['FK_SYSTEM_PROGRAM_ID']\n",
    "\n"
   ]
  },
  {
   "cell_type": "code",
   "execution_count": 27,
   "id": "908dc113-ceaf-47b2-af31-70db50a6b42d",
   "metadata": {},
   "outputs": [],
   "source": [
    "\n",
    "\n",
    "# convert to datetime \n",
    "sessions__dev['START_DATETIME'] = pd.to_datetime(sessions__dev['START_DATE'])\n",
    "sessions__dev['END_DATETIME'] = pd.to_datetime(sessions__dev['END_DATE'])\n",
    "\n",
    "# del sessions__dev['START_DATE']\n",
    "del sessions__dev['END_DATE']\n",
    "\n",
    "# extract dates from datetime\n",
    "sessions__dev['START_DATE'] = sessions__dev['START_DATETIME'].dt.date\n",
    "# sessions__dev['END_DATE'] = sessions__dev['END_DATETIME'].dt.date\n",
    "\n"
   ]
  },
  {
   "cell_type": "code",
   "execution_count": 28,
   "id": "cecdcfda-d9b6-473a-b488-c2215890dc0b",
   "metadata": {},
   "outputs": [
    {
     "data": {
      "text/plain": [
       "0    327.0\n",
       "1    242.0\n",
       "Name: SESSION_DURATION, dtype: float64"
      ]
     },
     "execution_count": 28,
     "metadata": {},
     "output_type": "execute_result"
    }
   ],
   "source": [
    "\n",
    "\n",
    "# Calc: Add time-based features for analysis\n",
    "sessions__dev['SESSION_DURATION'] = (sessions__dev['END_DATETIME'] - sessions__dev['START_DATETIME']).dt.total_seconds()\n",
    "# preview\n",
    "sessions__dev['SESSION_DURATION'].head(2)\n",
    "\n"
   ]
  },
  {
   "cell_type": "code",
   "execution_count": 29,
   "id": "9a18683b-5e53-4b69-b500-a970b32470d7",
   "metadata": {},
   "outputs": [
    {
     "name": "stdout",
     "output_type": "stream",
     "text": [
      "* Selected rows: 1601645\n"
     ]
    },
    {
     "data": {
      "text/html": [
       "<div>\n",
       "<style scoped>\n",
       "    .dataframe tbody tr th:only-of-type {\n",
       "        vertical-align: middle;\n",
       "    }\n",
       "\n",
       "    .dataframe tbody tr th {\n",
       "        vertical-align: top;\n",
       "    }\n",
       "\n",
       "    .dataframe thead th {\n",
       "        text-align: right;\n",
       "    }\n",
       "</style>\n",
       "<table border=\"1\" class=\"dataframe\">\n",
       "  <thead>\n",
       "    <tr style=\"text-align: right;\">\n",
       "      <th></th>\n",
       "      <th>FK_USER_ID</th>\n",
       "      <th>START_DATE</th>\n",
       "      <th>FK_REFERENCE_ID</th>\n",
       "      <th>SESSION_TYPE</th>\n",
       "      <th>INTENSITY</th>\n",
       "      <th>START_DATETIME</th>\n",
       "      <th>END_DATETIME</th>\n",
       "      <th>SESSION_DURATION</th>\n",
       "    </tr>\n",
       "  </thead>\n",
       "  <tbody>\n",
       "    <tr>\n",
       "      <th>0</th>\n",
       "      <td>3</td>\n",
       "      <td>2024-04-02</td>\n",
       "      <td>1</td>\n",
       "      <td>Program</td>\n",
       "      <td>NaN</td>\n",
       "      <td>2024-04-02 11:09:40</td>\n",
       "      <td>2024-04-02 11:15:07</td>\n",
       "      <td>327.0</td>\n",
       "    </tr>\n",
       "    <tr>\n",
       "      <th>1</th>\n",
       "      <td>215</td>\n",
       "      <td>2024-04-04</td>\n",
       "      <td>1</td>\n",
       "      <td>Program</td>\n",
       "      <td>NaN</td>\n",
       "      <td>2024-04-04 07:47:05</td>\n",
       "      <td>2024-04-04 07:51:07</td>\n",
       "      <td>242.0</td>\n",
       "    </tr>\n",
       "  </tbody>\n",
       "</table>\n",
       "</div>"
      ],
      "text/plain": [
       "   FK_USER_ID  START_DATE  FK_REFERENCE_ID SESSION_TYPE  INTENSITY  \\\n",
       "0           3  2024-04-02                1      Program        NaN   \n",
       "1         215  2024-04-04                1      Program        NaN   \n",
       "\n",
       "       START_DATETIME        END_DATETIME  SESSION_DURATION  \n",
       "0 2024-04-02 11:09:40 2024-04-02 11:15:07             327.0  \n",
       "1 2024-04-04 07:47:05 2024-04-04 07:51:07             242.0  "
      ]
     },
     "execution_count": 29,
     "metadata": {},
     "output_type": "execute_result"
    }
   ],
   "source": [
    "\n",
    "# sample one: first\n",
    "# users_sample_list = 14064\n",
    "# sample from Daily: users\n",
    "# users_sample_list = [36899, 57417, 13844]\n",
    "# sample random\n",
    "# users_sample_list = sessions__dev['FK_USER_ID'].sample(n=3, random_state=88888888).to_list()\n",
    "# print(f\"* Selected users: {users_sample_list[:3]} ...\")\n",
    "\n",
    "# select data for sampled users\n",
    "# sessions__user = sessions__dev[sessions__dev['FK_USER_ID'].isin(users_sample_list)]\n",
    "\n",
    "# or go full\n",
    "sessions__user = sessions__dev\n",
    "print(f\"* Selected rows: {sessions__user.shape[0]}\")\n",
    "sessions__user.head(2)\n",
    "\n"
   ]
  },
  {
   "cell_type": "code",
   "execution_count": 30,
   "id": "284d986d-10e6-4e9d-b343-2f2852913e45",
   "metadata": {},
   "outputs": [
    {
     "data": {
      "text/html": [
       "<div>\n",
       "<style scoped>\n",
       "    .dataframe tbody tr th:only-of-type {\n",
       "        vertical-align: middle;\n",
       "    }\n",
       "\n",
       "    .dataframe tbody tr th {\n",
       "        vertical-align: top;\n",
       "    }\n",
       "\n",
       "    .dataframe thead th {\n",
       "        text-align: right;\n",
       "    }\n",
       "</style>\n",
       "<table border=\"1\" class=\"dataframe\">\n",
       "  <thead>\n",
       "    <tr style=\"text-align: right;\">\n",
       "      <th></th>\n",
       "      <th>FK_USER_ID</th>\n",
       "      <th>FK_REFERENCE_ID</th>\n",
       "      <th>INTENSITY</th>\n",
       "      <th>START_DATETIME</th>\n",
       "      <th>END_DATETIME</th>\n",
       "      <th>SESSION_DURATION</th>\n",
       "    </tr>\n",
       "  </thead>\n",
       "  <tbody>\n",
       "    <tr>\n",
       "      <th>count</th>\n",
       "      <td>1.601645e+06</td>\n",
       "      <td>1.601645e+06</td>\n",
       "      <td>1.245794e+06</td>\n",
       "      <td>1601645</td>\n",
       "      <td>1601645</td>\n",
       "      <td>1.601645e+06</td>\n",
       "    </tr>\n",
       "    <tr>\n",
       "      <th>mean</th>\n",
       "      <td>3.889977e+04</td>\n",
       "      <td>4.241593e+00</td>\n",
       "      <td>6.443604e+00</td>\n",
       "      <td>2024-10-18 16:44:16.247289856</td>\n",
       "      <td>2024-10-18 16:52:16.927057664</td>\n",
       "      <td>4.806798e+02</td>\n",
       "    </tr>\n",
       "    <tr>\n",
       "      <th>min</th>\n",
       "      <td>3.000000e+00</td>\n",
       "      <td>1.000000e+00</td>\n",
       "      <td>1.000000e+00</td>\n",
       "      <td>2024-04-02 11:09:40</td>\n",
       "      <td>2024-04-02 11:15:07</td>\n",
       "      <td>-4.316300e+04</td>\n",
       "    </tr>\n",
       "    <tr>\n",
       "      <th>25%</th>\n",
       "      <td>2.689700e+04</td>\n",
       "      <td>2.000000e+00</td>\n",
       "      <td>5.000000e+00</td>\n",
       "      <td>2024-08-29 01:13:34</td>\n",
       "      <td>2024-08-29 01:22:38</td>\n",
       "      <td>2.400000e+02</td>\n",
       "    </tr>\n",
       "    <tr>\n",
       "      <th>50%</th>\n",
       "      <td>3.947900e+04</td>\n",
       "      <td>3.000000e+00</td>\n",
       "      <td>7.000000e+00</td>\n",
       "      <td>2024-10-30 20:44:37</td>\n",
       "      <td>2024-10-30 20:53:40</td>\n",
       "      <td>3.600000e+02</td>\n",
       "    </tr>\n",
       "    <tr>\n",
       "      <th>75%</th>\n",
       "      <td>5.244400e+04</td>\n",
       "      <td>4.000000e+00</td>\n",
       "      <td>8.000000e+00</td>\n",
       "      <td>2024-12-20 05:47:40</td>\n",
       "      <td>2024-12-20 05:57:16</td>\n",
       "      <td>6.000000e+02</td>\n",
       "    </tr>\n",
       "    <tr>\n",
       "      <th>max</th>\n",
       "      <td>7.623000e+04</td>\n",
       "      <td>2.200000e+01</td>\n",
       "      <td>1.000000e+01</td>\n",
       "      <td>2025-01-28 10:08:12</td>\n",
       "      <td>2025-01-28 10:14:12</td>\n",
       "      <td>8.676160e+05</td>\n",
       "    </tr>\n",
       "    <tr>\n",
       "      <th>std</th>\n",
       "      <td>1.748468e+04</td>\n",
       "      <td>4.834565e+00</td>\n",
       "      <td>1.889808e+00</td>\n",
       "      <td>NaN</td>\n",
       "      <td>NaN</td>\n",
       "      <td>2.280620e+03</td>\n",
       "    </tr>\n",
       "  </tbody>\n",
       "</table>\n",
       "</div>"
      ],
      "text/plain": [
       "         FK_USER_ID  FK_REFERENCE_ID     INTENSITY  \\\n",
       "count  1.601645e+06     1.601645e+06  1.245794e+06   \n",
       "mean   3.889977e+04     4.241593e+00  6.443604e+00   \n",
       "min    3.000000e+00     1.000000e+00  1.000000e+00   \n",
       "25%    2.689700e+04     2.000000e+00  5.000000e+00   \n",
       "50%    3.947900e+04     3.000000e+00  7.000000e+00   \n",
       "75%    5.244400e+04     4.000000e+00  8.000000e+00   \n",
       "max    7.623000e+04     2.200000e+01  1.000000e+01   \n",
       "std    1.748468e+04     4.834565e+00  1.889808e+00   \n",
       "\n",
       "                      START_DATETIME                   END_DATETIME  \\\n",
       "count                        1601645                        1601645   \n",
       "mean   2024-10-18 16:44:16.247289856  2024-10-18 16:52:16.927057664   \n",
       "min              2024-04-02 11:09:40            2024-04-02 11:15:07   \n",
       "25%              2024-08-29 01:13:34            2024-08-29 01:22:38   \n",
       "50%              2024-10-30 20:44:37            2024-10-30 20:53:40   \n",
       "75%              2024-12-20 05:47:40            2024-12-20 05:57:16   \n",
       "max              2025-01-28 10:08:12            2025-01-28 10:14:12   \n",
       "std                              NaN                            NaN   \n",
       "\n",
       "       SESSION_DURATION  \n",
       "count      1.601645e+06  \n",
       "mean       4.806798e+02  \n",
       "min       -4.316300e+04  \n",
       "25%        2.400000e+02  \n",
       "50%        3.600000e+02  \n",
       "75%        6.000000e+02  \n",
       "max        8.676160e+05  \n",
       "std        2.280620e+03  "
      ]
     },
     "execution_count": 30,
     "metadata": {},
     "output_type": "execute_result"
    }
   ],
   "source": [
    "\n",
    "\n",
    "# check some basic statistics\n",
    "sessions__user.describe()\n",
    "\n"
   ]
  },
  {
   "cell_type": "raw",
   "id": "18977a3d-3d81-4011-9ca3-5d1dac1eab6f",
   "metadata": {},
   "source": [
    "\n",
    "\n",
    "# write to file for analysis\n",
    "sessions__user.to_csv('sessions__user.csv')\n",
    "\n"
   ]
  },
  {
   "cell_type": "markdown",
   "id": "b3b38268-0bdb-4d96-b318-af4b9747a839",
   "metadata": {},
   "source": [
    "\n",
    "\n",
    "Manual Data review: Sessions of Selected Users\n",
    "\n",
    "Exported file is reviewed.\n",
    "- Two users have data.\n",
    "- One used has no data.\n",
    "\n"
   ]
  },
  {
   "cell_type": "markdown",
   "id": "17feab8c-6baa-4906-8980-b62160f710bd",
   "metadata": {},
   "source": [
    "##\n",
    "## Samples\n",
    "##"
   ]
  },
  {
   "cell_type": "raw",
   "id": "6fcc8dd0-0e8d-4cac-9bbd-9d044db4a569",
   "metadata": {},
   "source": [
    "\n",
    "\n",
    "# Load the data\n",
    "samples__raw = pd.read_csv(\n",
    "    '../data/00_original/health_metrics_samples_2025-01-28.csv'\n",
    "# , index_col='PK_HEALTH_METRICS_HEART_HR_SAMPLE_ID'\n",
    ")\n",
    "# preview\n",
    "samples__raw.head(2)\n",
    "\n"
   ]
  },
  {
   "cell_type": "raw",
   "id": "e6c88ad9-8b9f-4aa0-9c7a-99c5c3ad7cc8",
   "metadata": {},
   "source": [
    "\n",
    "\n",
    "# assign a working copy\n",
    "samples__dev = samples__raw.copy()\n",
    "\n"
   ]
  },
  {
   "cell_type": "raw",
   "id": "ee58a7d9-bcf9-46ed-b4cf-bebd3330a0dc",
   "metadata": {
    "scrolled": true
   },
   "source": [
    "\n",
    "\n",
    "samples__dev.info()\n",
    "\n"
   ]
  },
  {
   "cell_type": "raw",
   "id": "b68be3c7-7d3d-47a6-874a-0ff0cc6bc89e",
   "metadata": {},
   "source": [
    "\n",
    "\n",
    "# Check for missing data\n",
    "print(samples__dev.isnull().sum())\n",
    "\n"
   ]
  },
  {
   "cell_type": "raw",
   "id": "633165cb-e601-4745-aa71-988151707c87",
   "metadata": {},
   "source": [
    "\n",
    "\n",
    "# select only valid records\n",
    "samples__dev = samples__dev[samples__dev['ROW_IS_VALID']==1]\n",
    "# drop redundant features\n",
    "del samples__dev['ROW_IS_VALID']\n",
    "\n"
   ]
  },
  {
   "cell_type": "raw",
   "id": "3c9c81cc-2e79-44b5-92b1-9480fb463e9c",
   "metadata": {},
   "source": [
    "\n",
    "\n",
    "del samples__dev['CREATED_DATE']\n",
    "del samples__dev['LAST_MODIFIED_DATE']\n",
    "\n"
   ]
  },
  {
   "cell_type": "raw",
   "id": "f04b97e4-6bea-44f8-af4f-b7165571ec41",
   "metadata": {},
   "source": [
    "\n",
    "\n",
    "# drop PK\n",
    "del samples__dev['PK_HEALTH_METRICS_HEART_HR_SAMPLE_ID']\n",
    "\n"
   ]
  },
  {
   "cell_type": "raw",
   "id": "f0c0387b-77e2-4cf2-a082-4bf7fcbd184f",
   "metadata": {},
   "source": [
    "\n",
    "\n",
    "# round `AVG_HEART_RATE`\n",
    "samples__dev['AVG_HEART_RATE'] = samples__dev['AVG_HEART_RATE'].round(1)\n",
    "\n"
   ]
  },
  {
   "cell_type": "raw",
   "id": "b64c08b4-69f0-4019-ae77-053a5aa00578",
   "metadata": {},
   "source": [
    "\n",
    "\n",
    "# A-1. invalid date in on row:\n",
    "drop_idx = samples__dev[samples__dev['DATE'].isna()].index\n",
    "# PK_HEALTH_METRICS_HEART_HR_SAMPLE_ID=150647, FK_HEALTH_METRICS_HEART_ID=790\n",
    "\n",
    "# A-2. drop invalid row\n",
    "samples__dev = samples__dev.drop(drop_idx)\n",
    "\n"
   ]
  },
  {
   "cell_type": "raw",
   "id": "64e38010-cec8-4503-ac71-2cb5f7fa6438",
   "metadata": {},
   "source": [
    "\n",
    "\n",
    "# A-1. invalid date in on row:\n",
    "drop_idx = samples__dev[samples__dev['DATE'] == '0001-01-01 00:00:00'].index\n",
    "# invalid date value 0001-01-01 00:00:00, at position 150646\n",
    "# samples__dev[drop_samples_date_idx]\n",
    "\n",
    "# A-2. drop invalid row\n",
    "samples__dev = samples__dev.drop(drop_idx)\n",
    "\n"
   ]
  },
  {
   "cell_type": "raw",
   "id": "4c00757c-26c9-417f-b9ce-54ec461ab714",
   "metadata": {},
   "source": [
    "\n",
    "\n",
    "# format date for merging\n",
    "samples__dev['DATE'] = pd.to_datetime(samples__dev['DATE']) \n",
    "# if OverflowError: Overflow occurred in npy_datetimestruct_to_datetime, then add: errors='coerce')\n",
    "\n",
    "# rename column date for merge\n",
    "samples__dev.rename({'DATE':'SAMPLE_DATETIME'}, axis='columns', inplace=True)\n",
    "\n",
    "# extract date\n",
    "samples__dev['SAMPLE_DATE'] = samples__dev['SAMPLE_DATETIME'].dt.date\n",
    "\n"
   ]
  },
  {
   "cell_type": "raw",
   "id": "9ba63034-d45f-4145-b488-07b3e045346b",
   "metadata": {},
   "source": [
    "\n",
    "\n",
    "# sample one\n",
    "# sample_sample_list = 1\n",
    "# sample all Heart_Ids from Daily\n",
    "sample_sample_list = daily__user['PK_HEALTH_METRICS_HEART_ID'].to_list()\n",
    "\n",
    "# select specific record\n",
    "samples__user = samples__dev[samples__dev['FK_HEALTH_METRICS_HEART_ID'].isin(sample_sample_list)]\n",
    "\n",
    "# 41 records\n",
    "samples__user.head(2)\n",
    "\n"
   ]
  },
  {
   "cell_type": "raw",
   "id": "363e6c64-930f-4807-926b-286dd10f8244",
   "metadata": {},
   "source": [
    "\n",
    "\n",
    "samples__user.describe()\n",
    "\n"
   ]
  },
  {
   "cell_type": "raw",
   "id": "d2506f23-4ed0-4f04-a11d-c4579018cf8d",
   "metadata": {},
   "source": [
    "\n",
    "\n",
    "# write to file for analysis\n",
    "samples__user.to_csv('samples__user.csv')\n",
    "\n"
   ]
  },
  {
   "cell_type": "markdown",
   "id": "3f649a90-06c3-49c1-b8d2-e28e13d700ab",
   "metadata": {},
   "source": [
    "##\n",
    "## Step 3: Check the column names to ensure foreign key matching\n",
    "##"
   ]
  },
  {
   "cell_type": "code",
   "execution_count": 31,
   "id": "0fe129c6-2505-4802-a1f5-f584e9cf0997",
   "metadata": {},
   "outputs": [
    {
     "name": "stdout",
     "output_type": "stream",
     "text": [
      "Sessions Columns: Index(['FK_USER_ID', 'START_DATE', 'FK_REFERENCE_ID', 'SESSION_TYPE',\n",
      "       'INTENSITY', 'START_DATETIME', 'END_DATETIME', 'SESSION_DURATION'],\n",
      "      dtype='object')\n",
      "Daily Columns: Index(['PK_HEALTH_METRICS_HEART_ID', 'FK_USER_ID', 'DAILY_DATE', 'AVG_HR',\n",
      "       'SOURCE'],\n",
      "      dtype='object')\n"
     ]
    }
   ],
   "source": [
    "\n",
    "\n",
    "# Clean and validate the column names\n",
    "sessions__user.columns = sessions__user.columns.str.strip()  # Remove any extra spaces\n",
    "daily__user.columns = daily__user.columns.str.strip()\n",
    "# samples__user.columns = samples__user.columns.str.strip()\n",
    "\n",
    "print(\"Sessions Columns:\", sessions__user.columns)\n",
    "print(\"Daily Columns:\", daily__user.columns)\n",
    "# print(\"Samples Columns:\", samples__user.columns)\n",
    "\n"
   ]
  },
  {
   "cell_type": "markdown",
   "id": "81ceabe1-ba7f-4c39-b1f4-7c9d4bbb1dea",
   "metadata": {},
   "source": [
    "#\n",
    "# Step 4. Merge Sessions with Daily measurements\n",
    "#"
   ]
  },
  {
   "cell_type": "code",
   "execution_count": 32,
   "id": "6c5ea952-dce3-4dd3-85b0-f0294fdd75c6",
   "metadata": {},
   "outputs": [],
   "source": [
    "\n",
    "\n",
    "merged_data = pd.merge(\n",
    "    daily__user\n",
    "    , sessions__user\n",
    "    , left_on=['FK_USER_ID', 'DAILY_DATE']\n",
    "    , right_on=['FK_USER_ID', 'START_DATE']\n",
    "    , how='left'\n",
    ")\n",
    "\n"
   ]
  },
  {
   "cell_type": "markdown",
   "id": "4be60459-b03f-4b47-a747-4639fadad539",
   "metadata": {},
   "source": [
    "#\n",
    "# Step 5: Data exploration to understand the relationships and values\n",
    "#\n"
   ]
  },
  {
   "cell_type": "code",
   "execution_count": 33,
   "id": "abd60be9-0dad-41ae-8991-f2acc61cfbea",
   "metadata": {},
   "outputs": [
    {
     "data": {
      "text/html": [
       "<div>\n",
       "<style scoped>\n",
       "    .dataframe tbody tr th:only-of-type {\n",
       "        vertical-align: middle;\n",
       "    }\n",
       "\n",
       "    .dataframe tbody tr th {\n",
       "        vertical-align: top;\n",
       "    }\n",
       "\n",
       "    .dataframe thead th {\n",
       "        text-align: right;\n",
       "    }\n",
       "</style>\n",
       "<table border=\"1\" class=\"dataframe\">\n",
       "  <thead>\n",
       "    <tr style=\"text-align: right;\">\n",
       "      <th></th>\n",
       "      <th>PK_HEALTH_METRICS_HEART_ID</th>\n",
       "      <th>FK_USER_ID</th>\n",
       "      <th>DAILY_DATE</th>\n",
       "      <th>AVG_HR</th>\n",
       "      <th>SOURCE</th>\n",
       "      <th>START_DATE</th>\n",
       "      <th>FK_REFERENCE_ID</th>\n",
       "      <th>SESSION_TYPE</th>\n",
       "      <th>INTENSITY</th>\n",
       "      <th>START_DATETIME</th>\n",
       "      <th>END_DATETIME</th>\n",
       "      <th>SESSION_DURATION</th>\n",
       "    </tr>\n",
       "  </thead>\n",
       "  <tbody>\n",
       "    <tr>\n",
       "      <th>0</th>\n",
       "      <td>1</td>\n",
       "      <td>14064</td>\n",
       "      <td>2024-09-08</td>\n",
       "      <td>73.0</td>\n",
       "      <td>apple</td>\n",
       "      <td>2024-09-08</td>\n",
       "      <td>3.0</td>\n",
       "      <td>Program</td>\n",
       "      <td>9.0</td>\n",
       "      <td>2024-09-08 19:24:15</td>\n",
       "      <td>2024-09-08 19:36:15</td>\n",
       "      <td>720.0</td>\n",
       "    </tr>\n",
       "    <tr>\n",
       "      <th>1</th>\n",
       "      <td>1</td>\n",
       "      <td>14064</td>\n",
       "      <td>2024-09-08</td>\n",
       "      <td>73.0</td>\n",
       "      <td>apple</td>\n",
       "      <td>2024-09-08</td>\n",
       "      <td>3.0</td>\n",
       "      <td>Program</td>\n",
       "      <td>9.0</td>\n",
       "      <td>2024-09-08 19:37:58</td>\n",
       "      <td>2024-09-08 19:49:58</td>\n",
       "      <td>720.0</td>\n",
       "    </tr>\n",
       "  </tbody>\n",
       "</table>\n",
       "</div>"
      ],
      "text/plain": [
       "   PK_HEALTH_METRICS_HEART_ID  FK_USER_ID  DAILY_DATE  AVG_HR SOURCE  \\\n",
       "0                           1       14064  2024-09-08    73.0  apple   \n",
       "1                           1       14064  2024-09-08    73.0  apple   \n",
       "\n",
       "   START_DATE  FK_REFERENCE_ID SESSION_TYPE  INTENSITY      START_DATETIME  \\\n",
       "0  2024-09-08              3.0      Program        9.0 2024-09-08 19:24:15   \n",
       "1  2024-09-08              3.0      Program        9.0 2024-09-08 19:37:58   \n",
       "\n",
       "         END_DATETIME  SESSION_DURATION  \n",
       "0 2024-09-08 19:36:15             720.0  \n",
       "1 2024-09-08 19:49:58             720.0  "
      ]
     },
     "execution_count": 33,
     "metadata": {},
     "output_type": "execute_result"
    }
   ],
   "source": [
    "\n",
    "\n",
    "merged_data.head(2)\n",
    "\n"
   ]
  },
  {
   "cell_type": "markdown",
   "id": "0566eff6-dcd6-43cc-a41c-06bd9ec1e5b1",
   "metadata": {},
   "source": [
    "\n",
    "Analysis of merged Daily and Sessions data for selected users:\n",
    "\n",
    "- 13844: stimulated 0 times\n",
    "- 36899: stimulated 0 times\n",
    "- 57417: stimulated N times\n",
    "\n"
   ]
  },
  {
   "cell_type": "code",
   "execution_count": 34,
   "id": "47646ff3-7450-4dc7-b2ee-7fb05e92afa6",
   "metadata": {},
   "outputs": [
    {
     "name": "stdout",
     "output_type": "stream",
     "text": [
      "<class 'pandas.core.frame.DataFrame'>\n",
      "RangeIndex: 209147 entries, 0 to 209146\n",
      "Data columns (total 12 columns):\n",
      " #   Column                      Non-Null Count   Dtype         \n",
      "---  ------                      --------------   -----         \n",
      " 0   PK_HEALTH_METRICS_HEART_ID  209147 non-null  int64         \n",
      " 1   FK_USER_ID                  209147 non-null  int64         \n",
      " 2   DAILY_DATE                  209147 non-null  object        \n",
      " 3   AVG_HR                      209147 non-null  float64       \n",
      " 4   SOURCE                      209147 non-null  object        \n",
      " 5   START_DATE                  84267 non-null   object        \n",
      " 6   FK_REFERENCE_ID             84267 non-null   float64       \n",
      " 7   SESSION_TYPE                84267 non-null   object        \n",
      " 8   INTENSITY                   83394 non-null   float64       \n",
      " 9   START_DATETIME              84267 non-null   datetime64[ns]\n",
      " 10  END_DATETIME                84267 non-null   datetime64[ns]\n",
      " 11  SESSION_DURATION            84267 non-null   float64       \n",
      "dtypes: datetime64[ns](2), float64(4), int64(2), object(4)\n",
      "memory usage: 19.1+ MB\n"
     ]
    }
   ],
   "source": [
    "\n",
    "\n",
    "merged_data.info()\n",
    "\n"
   ]
  },
  {
   "cell_type": "markdown",
   "id": "67b42cc3-413f-4f66-8971-0acb902a1a63",
   "metadata": {},
   "source": [
    "#\n",
    "# Step 6: Filter samples based on the session start and end dates\n",
    "#"
   ]
  },
  {
   "cell_type": "raw",
   "id": "e75392fd-0ed0-4c2c-ac55-9c208e19748c",
   "metadata": {},
   "source": [
    "\n",
    "\n",
    "# preview before\n",
    "merged_data[merged_data['START_DATE'] == merged_data['DAILY_DATE']].head(2)\n",
    "\n",
    "# Ensure that sample data falls within the session time window\n",
    "# merged_data = merged_data[merged_data['START_DATE'] == merged_data['DAILY_DATE']]\n",
    "\n",
    "# preview after\n",
    "merged_data.head(2)\n",
    "\n"
   ]
  },
  {
   "cell_type": "code",
   "execution_count": 35,
   "id": "03bdd936-62ef-4b00-bea8-2bb8025c8bd6",
   "metadata": {
    "scrolled": true
   },
   "outputs": [
    {
     "data": {
      "text/plain": [
       "(209147, 12)"
      ]
     },
     "execution_count": 35,
     "metadata": {},
     "output_type": "execute_result"
    }
   ],
   "source": [
    "\n",
    "\n",
    "merged_data.shape\n",
    "\n"
   ]
  },
  {
   "cell_type": "markdown",
   "id": "0afada41-cc2d-4db2-9334-2e5d6ac6d8cd",
   "metadata": {},
   "source": [
    "#\n",
    "# Step 7: Data Cleaning and Transformation\n",
    "#"
   ]
  },
  {
   "cell_type": "code",
   "execution_count": 36,
   "id": "e0dad319-6fd1-4153-a357-aeb35ad90ee7",
   "metadata": {},
   "outputs": [
    {
     "data": {
      "text/plain": [
       "(209147, 12)"
      ]
     },
     "execution_count": 36,
     "metadata": {},
     "output_type": "execute_result"
    }
   ],
   "source": [
    "\n",
    "\n",
    "# Handle missing values and data anomalies\n",
    "X_to_clean = ['AVG_HR'] #, 'DATE']\n",
    "merged_data.dropna(subset=X_to_clean, inplace=True)\n",
    "merged_data.shape\n",
    "\n",
    "\n"
   ]
  },
  {
   "cell_type": "markdown",
   "id": "80de233c-bea8-4c40-99d4-aa95721aacd8",
   "metadata": {},
   "source": [
    "##\n",
    "## Step 8: Normalize the AVG_HR\n",
    "##"
   ]
  },
  {
   "cell_type": "code",
   "execution_count": 37,
   "id": "7a2a12ce-5381-471b-b23c-93c4061ac478",
   "metadata": {},
   "outputs": [
    {
     "data": {
      "text/html": [
       "<div>\n",
       "<style scoped>\n",
       "    .dataframe tbody tr th:only-of-type {\n",
       "        vertical-align: middle;\n",
       "    }\n",
       "\n",
       "    .dataframe tbody tr th {\n",
       "        vertical-align: top;\n",
       "    }\n",
       "\n",
       "    .dataframe thead th {\n",
       "        text-align: right;\n",
       "    }\n",
       "</style>\n",
       "<table border=\"1\" class=\"dataframe\">\n",
       "  <thead>\n",
       "    <tr style=\"text-align: right;\">\n",
       "      <th></th>\n",
       "      <th>PK_HEALTH_METRICS_HEART_ID</th>\n",
       "      <th>FK_USER_ID</th>\n",
       "      <th>DAILY_DATE</th>\n",
       "      <th>AVG_HR</th>\n",
       "      <th>SOURCE</th>\n",
       "      <th>START_DATE</th>\n",
       "      <th>FK_REFERENCE_ID</th>\n",
       "      <th>SESSION_TYPE</th>\n",
       "      <th>INTENSITY</th>\n",
       "      <th>START_DATETIME</th>\n",
       "      <th>END_DATETIME</th>\n",
       "      <th>SESSION_DURATION</th>\n",
       "    </tr>\n",
       "  </thead>\n",
       "  <tbody>\n",
       "    <tr>\n",
       "      <th>0</th>\n",
       "      <td>1</td>\n",
       "      <td>14064</td>\n",
       "      <td>2024-09-08</td>\n",
       "      <td>73.0</td>\n",
       "      <td>apple</td>\n",
       "      <td>2024-09-08</td>\n",
       "      <td>3.0</td>\n",
       "      <td>Program</td>\n",
       "      <td>9.0</td>\n",
       "      <td>2024-09-08 19:24:15</td>\n",
       "      <td>2024-09-08 19:36:15</td>\n",
       "      <td>720.0</td>\n",
       "    </tr>\n",
       "    <tr>\n",
       "      <th>1</th>\n",
       "      <td>1</td>\n",
       "      <td>14064</td>\n",
       "      <td>2024-09-08</td>\n",
       "      <td>73.0</td>\n",
       "      <td>apple</td>\n",
       "      <td>2024-09-08</td>\n",
       "      <td>3.0</td>\n",
       "      <td>Program</td>\n",
       "      <td>9.0</td>\n",
       "      <td>2024-09-08 19:37:58</td>\n",
       "      <td>2024-09-08 19:49:58</td>\n",
       "      <td>720.0</td>\n",
       "    </tr>\n",
       "  </tbody>\n",
       "</table>\n",
       "</div>"
      ],
      "text/plain": [
       "   PK_HEALTH_METRICS_HEART_ID  FK_USER_ID  DAILY_DATE  AVG_HR SOURCE  \\\n",
       "0                           1       14064  2024-09-08    73.0  apple   \n",
       "1                           1       14064  2024-09-08    73.0  apple   \n",
       "\n",
       "   START_DATE  FK_REFERENCE_ID SESSION_TYPE  INTENSITY      START_DATETIME  \\\n",
       "0  2024-09-08              3.0      Program        9.0 2024-09-08 19:24:15   \n",
       "1  2024-09-08              3.0      Program        9.0 2024-09-08 19:37:58   \n",
       "\n",
       "         END_DATETIME  SESSION_DURATION  \n",
       "0 2024-09-08 19:36:15             720.0  \n",
       "1 2024-09-08 19:49:58             720.0  "
      ]
     },
     "execution_count": 37,
     "metadata": {},
     "output_type": "execute_result"
    }
   ],
   "source": [
    "\n",
    "\n",
    "merged_data['AVG_HR'] = merged_data['AVG_HR'].round(1)  # Round to 1 decimal place\n",
    "# Alternatively, if you want integers:\n",
    "# merged_data['AVG_HEART_RATE'] = merged_data['AVG_HEART_RATE'].astype(int)\n",
    "merged_data.head(2)\n",
    "\n"
   ]
  },
  {
   "cell_type": "markdown",
   "id": "8afdb1ac-3f74-49d7-880e-c4dffd5fe693",
   "metadata": {},
   "source": [
    "#\n",
    "# Step 9: Feature Engineering\n",
    "#"
   ]
  },
  {
   "cell_type": "code",
   "execution_count": 38,
   "id": "8a6c1e7a-4536-45e3-a793-70f5b333e863",
   "metadata": {},
   "outputs": [
    {
     "data": {
      "text/html": [
       "<div>\n",
       "<style scoped>\n",
       "    .dataframe tbody tr th:only-of-type {\n",
       "        vertical-align: middle;\n",
       "    }\n",
       "\n",
       "    .dataframe tbody tr th {\n",
       "        vertical-align: top;\n",
       "    }\n",
       "\n",
       "    .dataframe thead th {\n",
       "        text-align: right;\n",
       "    }\n",
       "</style>\n",
       "<table border=\"1\" class=\"dataframe\">\n",
       "  <thead>\n",
       "    <tr style=\"text-align: right;\">\n",
       "      <th></th>\n",
       "      <th>PK_HEALTH_METRICS_HEART_ID</th>\n",
       "      <th>FK_USER_ID</th>\n",
       "      <th>DAILY_DATE</th>\n",
       "      <th>AVG_HR</th>\n",
       "      <th>SOURCE</th>\n",
       "      <th>START_DATE</th>\n",
       "      <th>FK_REFERENCE_ID</th>\n",
       "      <th>SESSION_TYPE</th>\n",
       "      <th>START_DATETIME</th>\n",
       "      <th>END_DATETIME</th>\n",
       "      <th>SESSION_DURATION</th>\n",
       "      <th>IS_INTENSITY</th>\n",
       "    </tr>\n",
       "  </thead>\n",
       "  <tbody>\n",
       "    <tr>\n",
       "      <th>0</th>\n",
       "      <td>1</td>\n",
       "      <td>14064</td>\n",
       "      <td>2024-09-08</td>\n",
       "      <td>73.0</td>\n",
       "      <td>apple</td>\n",
       "      <td>2024-09-08</td>\n",
       "      <td>3.0</td>\n",
       "      <td>Program</td>\n",
       "      <td>2024-09-08 19:24:15</td>\n",
       "      <td>2024-09-08 19:36:15</td>\n",
       "      <td>720.0</td>\n",
       "      <td>1</td>\n",
       "    </tr>\n",
       "    <tr>\n",
       "      <th>1</th>\n",
       "      <td>1</td>\n",
       "      <td>14064</td>\n",
       "      <td>2024-09-08</td>\n",
       "      <td>73.0</td>\n",
       "      <td>apple</td>\n",
       "      <td>2024-09-08</td>\n",
       "      <td>3.0</td>\n",
       "      <td>Program</td>\n",
       "      <td>2024-09-08 19:37:58</td>\n",
       "      <td>2024-09-08 19:49:58</td>\n",
       "      <td>720.0</td>\n",
       "      <td>1</td>\n",
       "    </tr>\n",
       "  </tbody>\n",
       "</table>\n",
       "</div>"
      ],
      "text/plain": [
       "   PK_HEALTH_METRICS_HEART_ID  FK_USER_ID  DAILY_DATE  AVG_HR SOURCE  \\\n",
       "0                           1       14064  2024-09-08    73.0  apple   \n",
       "1                           1       14064  2024-09-08    73.0  apple   \n",
       "\n",
       "   START_DATE  FK_REFERENCE_ID SESSION_TYPE      START_DATETIME  \\\n",
       "0  2024-09-08              3.0      Program 2024-09-08 19:24:15   \n",
       "1  2024-09-08              3.0      Program 2024-09-08 19:37:58   \n",
       "\n",
       "         END_DATETIME  SESSION_DURATION  IS_INTENSITY  \n",
       "0 2024-09-08 19:36:15             720.0             1  \n",
       "1 2024-09-08 19:49:58             720.0             1  "
      ]
     },
     "execution_count": 38,
     "metadata": {},
     "output_type": "execute_result"
    }
   ],
   "source": [
    "\n",
    "\n",
    "# Calc: `IS_INTENSITY`: 1=Yes, 0=No\n",
    "x_in = 'INTENSITY'\n",
    "x_out = 'IS_INTENSITY'\n",
    "if x_in in merged_data.columns:\n",
    "    merged_data.loc[merged_data[x_in].isna(), x_out] = 0\n",
    "    merged_data.loc[~merged_data[x_in].isna(), x_out] = 1\n",
    "    merged_data[x_out] = merged_data[x_out].astype(int)\n",
    "    merged_data.drop(columns=x_in, inplace=True)\n",
    "\n",
    "merged_data.head(2)\n",
    "\n"
   ]
  },
  {
   "cell_type": "code",
   "execution_count": 39,
   "id": "b10ac464-60b4-4b69-b192-c16cd5e9a10e",
   "metadata": {},
   "outputs": [],
   "source": [
    "\n",
    "\n",
    "merged_data.to_csv('merged_data.csv')\n",
    "\n"
   ]
  },
  {
   "cell_type": "markdown",
   "id": "26285c69-0f0b-4072-a0c9-e126623e8655",
   "metadata": {},
   "source": [
    "##\n",
    "## Step 10: Identify the impact of X stimulation on heart rate\n",
    "##"
   ]
  },
  {
   "cell_type": "code",
   "execution_count": 40,
   "id": "7eb9b4eb-dbef-49ea-afc4-656c333b8a74",
   "metadata": {},
   "outputs": [],
   "source": [
    "import seaborn as sns\n",
    "import matplotlib.pyplot as plt\n",
    "\n",
    "# set chart size\n",
    "plt.rcParams[\"figure.figsize\"] = 5, 3\n",
    "sns.set_theme(rc={'figure.figsize':(5, 3)})\n",
    "\n"
   ]
  },
  {
   "cell_type": "code",
   "execution_count": 62,
   "id": "2f3c136b-eabb-49e1-a5e6-8ea8a9af3fcb",
   "metadata": {
    "scrolled": true
   },
   "outputs": [
    {
     "data": {
      "image/png": "[encoded data removed]",
      "text/plain": [
       "<Figure size 500x300 with 1 Axes>"
      ]
     },
     "metadata": {},
     "output_type": "display_data"
    }
   ],
   "source": [
    "\n",
    "\n",
    "sns.boxplot(x='IS_INTENSITY', y='AVG_HR', data=merged_data)\n",
    "# plt.title('AVG_HR by Stimulation (1=Yes)')\n",
    "plt.show()\n",
    "\n"
   ]
  },
  {
   "cell_type": "code",
   "execution_count": 63,
   "id": "5e081b50-5c28-47ed-9b78-f5a9b90648a7",
   "metadata": {
    "scrolled": true
   },
   "outputs": [
    {
     "data": {
      "text/plain": [
       "FK_USER_ID  IS_INTENSITY\n",
       "120         0               78.949495\n",
       "            1               80.258929\n",
       "129         0               41.634146\n",
       "            1               41.333333\n",
       "215         0               88.546154\n",
       "                              ...    \n",
       "75795       0               83.000000\n",
       "            1               89.000000\n",
       "75987       0               66.500000\n",
       "            1               75.000000\n",
       "76004       1               74.500000\n",
       "Name: AVG_HR, Length: 4702, dtype: float64"
      ]
     },
     "execution_count": 63,
     "metadata": {},
     "output_type": "execute_result"
    }
   ],
   "source": [
    "\n",
    "\n",
    "# Heart by user:\n",
    "merged_data.groupby(['FK_USER_ID', 'IS_INTENSITY'])['AVG_HR'].mean()\n",
    "\n"
   ]
  },
  {
   "cell_type": "markdown",
   "id": "390b3041-980d-4071-bc04-3cd6b5350167",
   "metadata": {},
   "source": [
    "#\n",
    "# Advanced statistics: compare Stimulated and non-Stimulated\n",
    "#"
   ]
  },
  {
   "cell_type": "code",
   "execution_count": 64,
   "id": "1f646c16-1a42-4c22-bf40-5699a3f967db",
   "metadata": {},
   "outputs": [
    {
     "name": "stdout",
     "output_type": "stream",
     "text": [
      "\n",
      "T-test for y=AVG_HR by x=IS_INTENSITY:\n",
      "T-statistic: -16.451, p-value: 0.0\n",
      "There is a significant difference.\n"
     ]
    }
   ],
   "source": [
    "from scipy import stats\n",
    "\n",
    "x = 'IS_INTENSITY'\n",
    "y = 'AVG_HR'\n",
    "\n",
    "# Separate performance scores by gender\n",
    "stimulated_Y_performance = merged_data[merged_data[x] == 1][y]\n",
    "stimulated_N_performance = merged_data[merged_data[x] == 0][y]\n",
    "\n",
    "# Perform a t-test for performance scores by gender \n",
    "t_stat_performance, p_val_performance = stats.ttest_ind(stimulated_Y_performance, stimulated_N_performance)\n",
    "print(f\"\\nT-test for y={y} by x={x}:\")\n",
    "print(f\"T-statistic: {np.round(t_stat_performance, 3)}, p-value: {np.round(p_val_performance, 3)}\")\n",
    "\n",
    "# Check if the p-value is less than 0.05 for significance\n",
    "if p_val_performance < 0.05: print(f\"There is a significant difference.\")\n",
    "else: print(f\"No significant difference.\")\n",
    "\n"
   ]
  },
  {
   "cell_type": "raw",
   "id": "a717a474-19bf-41b6-9c16-ca6ac384bf4d",
   "metadata": {},
   "source": [
    "\n",
    "\n",
    "# Intensity count\n",
    "merged_data.groupby(['FK_USER_ID', 'IS_INTENSITY'])['IS_INTENSITY'].count()\n",
    "# ALUR: records without intensity\n",
    "\n"
   ]
  },
  {
   "cell_type": "raw",
   "id": "bd7113c2-9974-418f-ba56-996bd856e7bd",
   "metadata": {},
   "source": [
    "\n",
    "\n",
    "# Avg % of records with Stimulation per User\n",
    "np.round(merged_data.groupby('FK_USER_ID')['IS_INTENSITY'].mean() * 100, 0)\n",
    "\n"
   ]
  },
  {
   "cell_type": "raw",
   "id": "bda62d37-c357-4346-9412-81937b747d2f",
   "metadata": {},
   "source": [
    "\n",
    "\n",
    "# Count of records with Stimulation, %\n",
    "np.round(merged_data.groupby('FK_USER_ID')['IS_INTENSITY'].value_counts(normalize=True).unstack() * 100, 0)\n",
    "\n"
   ]
  },
  {
   "cell_type": "raw",
   "id": "fcde2d69-33c0-4b44-b394-394cd489e357",
   "metadata": {},
   "source": [
    "\n",
    "\n",
    "merged_data.groupby(['FK_USER_ID', 'IS_INTENSITY'])['IS_INTENSITY'].count()\n",
    "# ALUR: records without intensity\n",
    "\n"
   ]
  },
  {
   "cell_type": "code",
   "execution_count": 65,
   "id": "69a48a9e-ea65-4b35-ab16-3d2da5406947",
   "metadata": {},
   "outputs": [],
   "source": [
    "\n",
    "\n",
    "# For simplicity, we assume sessions with 'Intensity' involve stimulation: already filtered\n",
    "stimulated_data = merged_data #[merged_data['IS_INTENSITY'] == 1]\n",
    "# stimulated_data.head(2)\n",
    "\n"
   ]
  },
  {
   "cell_type": "code",
   "execution_count": 66,
   "id": "8742846e-3b90-4f31-95b1-e6002c8d0d9d",
   "metadata": {},
   "outputs": [
    {
     "data": {
      "text/plain": [
       "0          NaN\n",
       "1          0.0\n",
       "2          0.0\n",
       "3          0.0\n",
       "4          NaN\n",
       "          ... \n",
       "209142    14.0\n",
       "209143     0.0\n",
       "209144   -11.0\n",
       "209145   -27.0\n",
       "209146   -22.0\n",
       "Name: HR_impact, Length: 209147, dtype: float64"
      ]
     },
     "execution_count": 66,
     "metadata": {},
     "output_type": "execute_result"
    }
   ],
   "source": [
    "\n",
    "\n",
    "# Primary Question: Does X stimulation affect heart rate?\n",
    "stimulated_data['HR_impact'] = stimulated_data.groupby(['FK_USER_ID', 'IS_INTENSITY'])['AVG_HR'].diff()  # Difference in HR\n",
    "stimulated_data['HR_impact']\n",
    "\n"
   ]
  },
  {
   "cell_type": "markdown",
   "id": "2f15e7b5-08df-4ded-8d89-f4137262b1b4",
   "metadata": {},
   "source": [
    "##\n",
    "## Step 11: Aggregate and analyze data\n",
    "##"
   ]
  },
  {
   "cell_type": "code",
   "execution_count": 67,
   "id": "e55b1905-661e-496b-bccf-3fecb235f175",
   "metadata": {},
   "outputs": [
    {
     "name": "stdout",
     "output_type": "stream",
     "text": [
      "* Users in HR analysis: 2609\n"
     ]
    }
   ],
   "source": [
    "\n",
    "\n",
    "# Aggregate average HR change for each user and session\n",
    "HR_analysis = stimulated_data.groupby('FK_USER_ID').agg(\n",
    "    avg_impact_hr=('HR_impact', 'mean'),\n",
    "    max_impact_hr=('HR_impact', 'max'),\n",
    "    session_count=('IS_INTENSITY', 'count')\n",
    ").reset_index()\n",
    "\n",
    "print(f\"* Users in HR analysis: {HR_analysis.shape[0]}\")\n",
    "\n"
   ]
  },
  {
   "cell_type": "code",
   "execution_count": 68,
   "id": "410105a8-aecc-4d04-b5b5-df36db10bedf",
   "metadata": {},
   "outputs": [
    {
     "name": "stdout",
     "output_type": "stream",
     "text": [
      "HR Analysis - Impact of X Stimulation:\n",
      "   FK_USER_ID  avg_impact_hr  max_impact_hr  session_count  impact_sign\n",
      "0         120      -0.057416           31.0            211         -1.0\n",
      "1         129      -0.144578           58.0             85         -1.0\n",
      "2         215       0.033557           27.0            151          1.0\n",
      "3         466       0.433735           54.0             85          1.0\n",
      "4         684      -0.750000            3.0              6         -1.0\n"
     ]
    }
   ],
   "source": [
    "\n",
    "\n",
    "# Additional Insights: Identify any patterns based on time or other factors\n",
    "HR_analysis['impact_sign'] = np.sign(HR_analysis['avg_impact_hr'])  # Positive or Negative Impact\n",
    "\n",
    "print(\"HR Analysis - Impact of X Stimulation:\")\n",
    "print(HR_analysis.head())\n",
    "\n"
   ]
  },
  {
   "cell_type": "markdown",
   "id": "2fc9af02-4593-4473-8567-d4a680a43385",
   "metadata": {},
   "source": [
    "##\n",
    "## Step 12: Save the results or create a detailed report\n",
    "##"
   ]
  },
  {
   "cell_type": "code",
   "execution_count": 69,
   "id": "9423ec51-399f-4eb7-afda-9f18f812c9e6",
   "metadata": {},
   "outputs": [
    {
     "name": "stdout",
     "output_type": "stream",
     "text": [
      "* Filter by x=session_count: was 2609, now 2361\n"
     ]
    }
   ],
   "source": [
    "\n",
    "\n",
    "x = \"session_count\"\n",
    "SESSIONS_COUNT_LIMIT = 10 \n",
    "\n",
    "# before\n",
    "count_before = HR_analysis.shape[0]\n",
    "\n",
    "# some users have few sessions\n",
    "HR_analysis = HR_analysis[HR_analysis[x] >= SESSIONS_COUNT_LIMIT]\n",
    "\n",
    "# after\n",
    "count_after = HR_analysis.shape[0]\n",
    "\n",
    "print(f\"* Filter by x={x}: was {count_before}, now {count_after}\")\n",
    "\n"
   ]
  },
  {
   "cell_type": "code",
   "execution_count": 70,
   "id": "5ed677a8-c861-4de6-b366-6ce552e2cce6",
   "metadata": {},
   "outputs": [],
   "source": [
    "\n",
    "\n",
    "HR_analysis.to_csv('HR_analysis_results.csv', index=False)\n",
    "\n"
   ]
  },
  {
   "cell_type": "markdown",
   "id": "bfbb0a9e-54c3-4ea2-bbfc-f782fc60fcc9",
   "metadata": {},
   "source": [
    "##\n",
    "## Step 13: Report\n",
    "##"
   ]
  },
  {
   "cell_type": "code",
   "execution_count": 71,
   "id": "5399d6e3-f0fd-4188-8572-ad3467410527",
   "metadata": {},
   "outputs": [],
   "source": [
    "\n",
    "\n",
    "report = \"\"\"\n",
    "@title : Impact of Stimulation on Heart Rate\n",
    "@date  : {report_date}\n",
    "@author: Aleksandras Urbonas\n",
    "\n",
    "1. Primary Question: Does X stimulation affect heart rate metrics?\n",
    "- Based on the analysis, we found that users (N={N_subjects}) who participated in the 'Program' - indicating stimulation - (at least S={SESSIONS_COUNT_LIMIT} sessions) - showed an average HR change of {avg_impact:.2f} bpm. \n",
    "- The impact varied across sessions, with the maximum observed change being {max_impact:.2f} bpm.\n",
    "\n",
    "2. Secondary Insights:\n",
    "- Additional factors influencing HR change include session duration and time of day (further analysis needed for seasonality patterns).\n",
    "- A significant amount of time was dedicated to data exploration and schema understanding. A more detailed schema and business process description can be of help.\n",
    "- Samples data contains ~70 mln records, which slows the analysis and it is recommended to process such data in SQL, for example, performing aggregations by user over different periods of time.\n",
    "- Data validation was completed: some records were excluded from analysis.\n",
    "- Data was analysed using Python, allowing the analysis to be repeated.\n",
    "\"\"\".format(\n",
    "    N_subjects = HR_analysis['FK_USER_ID'].count()\n",
    "    , avg_impact=HR_analysis['avg_impact_hr'].mean()\n",
    "    , max_impact=HR_analysis['max_impact_hr'].max()\n",
    "    , report_date=pd.to_datetime('today').strftime('%Y-%m-%d')\n",
    "    , SESSIONS_COUNT_LIMIT=SESSIONS_COUNT_LIMIT\n",
    ")\n",
    "\n",
    "# print(report)\n",
    "with open('../report.md', 'w') as _file:\n",
    "    _file.write(report)\n",
    "\n"
   ]
  }
 ],
 "metadata": {
  "kernelspec": {
   "display_name": "Python 3 (ipykernel)",
   "language": "python",
   "name": "python3"
  },
  "language_info": {
   "codemirror_mode": {
    "name": "ipython",
    "version": 3
   },
   "file_extension": ".py",
   "mimetype": "text/x-python",
   "name": "python",
   "nbconvert_exporter": "python",
   "pygments_lexer": "ipython3",
   "version": "3.12.1"
  }
 },
 "nbformat": 4,
 "nbformat_minor": 5
}
