{
 "cells": [
  {
   "cell_type": "markdown",
   "id": "f778f012",
   "metadata": {},
   "source": [
    "```\n",
    "@title : Tracker X data analysis\n",
    "@date  : 20250212 ALUR\n",
    "@author: Aleksandras Urbonas\n",
    "```\n"
   ]
  },
  {
   "cell_type": "markdown",
   "id": "8a165f09",
   "metadata": {},
   "source": [
    "---\n",
    "#\n",
    "# Step 1. Load the data\n",
    "Load the files into `Pandas DataFrames`.\n",
    "\n",
    "Data analyzed: Activity Sessions, Daily Health Metrics. Excluded: Health Metrics Samples\n",
    "\n",
    "Data descriptions are limited, see <data\\schema.md>.\n",
    "#"
   ]
  },
  {
   "cell_type": "code",
   "execution_count": null,
   "id": "de0bfd9e-a617-4320-abf0-5cd051a4a144",
   "metadata": {},
   "outputs": [],
   "source": [
    "\n",
    "\n",
    "import pandas as pd  # load and process data\n",
    "import numpy as np  # process numeric values\n",
    "\n"
   ]
  },
  {
   "cell_type": "markdown",
   "id": "5f939202-35f3-44a5-b2b3-221fd5890f88",
   "metadata": {},
   "source": [
    "---\n",
    "##\n",
    "## Daily\n",
    "##"
   ]
  },
  {
   "cell_type": "code",
   "execution_count": null,
   "id": "297ccf52-caf2-46d7-aad5-5f30300315f5",
   "metadata": {
    "scrolled": true
   },
   "outputs": [],
   "source": [
    "\n",
    "\n",
    "# Load the data\n",
    "daily__raw = pd.read_csv(\n",
    "    '../data/00_original/health_metrics_daily_2025-01-28.csv'\n",
    "# , index_col='PK_HEALTH_METRICS_HEART_ID'\n",
    ")\n",
    "\n",
    "# preview\n",
    "daily__raw.head(2)\n",
    "\n"
   ]
  },
  {
   "cell_type": "code",
   "execution_count": null,
   "id": "df7a15c4-6a23-44ae-b1d8-cfb6b881f6a5",
   "metadata": {},
   "outputs": [],
   "source": [
    "\n",
    "\n",
    "# working dataset\n",
    "daily__dev = daily__raw.copy()\n",
    "\n"
   ]
  },
  {
   "cell_type": "code",
   "execution_count": null,
   "id": "468b2508-f255-40d5-8126-cead6bf95b48",
   "metadata": {},
   "outputs": [],
   "source": [
    "\n",
    "\n",
    "# columns check\n",
    "daily__dev.info()\n",
    "\n"
   ]
  },
  {
   "cell_type": "code",
   "execution_count": null,
   "id": "2974cec1-5604-4561-8b26-4c427dab5653",
   "metadata": {},
   "outputs": [],
   "source": [
    "\n",
    "\n",
    "# only keep valid rows\n",
    "daily__dev = daily__dev[daily__dev['ROW_IS_VALID'] == 1]\n",
    "\n",
    "del daily__dev['ROW_IS_VALID']\n",
    "\n"
   ]
  },
  {
   "cell_type": "code",
   "execution_count": null,
   "id": "1a8268a3-bf4b-4628-89b7-4de3d30f905b",
   "metadata": {},
   "outputs": [],
   "source": [
    "\n",
    "\n",
    "# drop timezone: already included\n",
    "del daily__dev['TIMEZONE_OFFSET']\n",
    "\n"
   ]
  },
  {
   "cell_type": "code",
   "execution_count": null,
   "id": "e777a67f-81b5-4236-a048-153972667570",
   "metadata": {},
   "outputs": [],
   "source": [
    "\n",
    "\n",
    "# drop system timestamps\n",
    "del daily__dev['CREATED_DATE']\n",
    "del daily__dev['LAST_MODIFIED_DATE']\n",
    "\n"
   ]
  },
  {
   "cell_type": "code",
   "execution_count": null,
   "id": "e7645169-39a7-4c21-b121-d7b85d0ee9aa",
   "metadata": {},
   "outputs": [],
   "source": [
    "\n",
    "\n",
    "# A-1. invalid date in on row:\n",
    "drop_daily_date_idx = daily__dev[daily__dev['DATE'] == '0001-01-01'].index\n",
    "# FK_USER_ID=21775, PK_HEALTH_METRICS_HEART_ID=790\n",
    "\n",
    "# A-2. drop invalid row\n",
    "daily__dev = daily__dev.drop(drop_daily_date_idx)\n",
    "\n"
   ]
  },
  {
   "cell_type": "code",
   "execution_count": null,
   "id": "bc4a26c3-52b8-4ab1-8c1a-f62abe1dbfda",
   "metadata": {},
   "outputs": [],
   "source": [
    "\n",
    "\n",
    "# B. convert datetime\n",
    "daily__dev['DATE'] = pd.to_datetime(daily__dev['DATE']) #, format='mixed')\n",
    "daily__dev['DATE'] = daily__dev['DATE'].dt.date #, format='mixed')\n",
    "\n",
    "# Error:\n",
    "# OutOfBoundsDatetime: Out of bounds nanosecond timestamp: 0001-01-01, at position 5. You might want to try:\n",
    "#     - passing `format` if your strings have a consistent format;\n",
    "#     - passing `format='ISO8601'` if your strings are all ISO8601 but not necessarily in exactly the same format;\n",
    "#     - passing `format='mixed'`, and the format will be inferred for each element individually. You might want to use `dayfirst` alongside this.\n",
    "\n",
    "# rename date column:\n",
    "daily__dev.rename({'DATE':'DAILY_DATE'}, axis='columns', inplace=True)\n",
    "\n"
   ]
  },
  {
   "cell_type": "code",
   "execution_count": null,
   "id": "ddb29f2a-8593-4b1a-89eb-e888e759f563",
   "metadata": {},
   "outputs": [],
   "source": [
    "\n",
    "\n",
    "# Check for missing data, %\n",
    "print(daily__dev.isnull().sum() * 100 / daily__dev.shape[0])\n",
    "\n"
   ]
  },
  {
   "cell_type": "code",
   "execution_count": null,
   "id": "cac36cef-ae9f-4e54-a027-abd403e69b9a",
   "metadata": {},
   "outputs": [],
   "source": [
    "\n",
    "\n",
    "# A-1. invalid date in on row:\n",
    "drop_daily_avg_hr_idx = daily__dev[daily__dev['AVG_HR'].isnull()].index\n",
    "# FK_USER_ID=21775, PK_HEALTH_METRICS_HEART_ID=790\n",
    "\n",
    "# A-2. drop invalid row\n",
    "daily__dev = daily__dev.drop(drop_daily_avg_hr_idx)\n",
    "\n"
   ]
  },
  {
   "cell_type": "code",
   "execution_count": null,
   "id": "ee212a5e-26e0-4501-b6fc-05fe19094959",
   "metadata": {},
   "outputs": [],
   "source": [
    "\n",
    "\n",
    "del daily__dev['HEART_RATE_VARIABILITY_DAY_HRV']  # all null\n",
    "del daily__dev['HEART_RATE_VARIABILITY_SLEEP_HRV']  # all null\n",
    "\n"
   ]
  },
  {
   "cell_type": "code",
   "execution_count": null,
   "id": "657e70a6-5f65-48c6-8b86-c5a0574398c0",
   "metadata": {},
   "outputs": [],
   "source": [
    "\n",
    "\n",
    "# review missing data\n",
    "# daily__dev[daily__dev['RESTING_HR'].isnull()].head(1)\n",
    "# 15-20% are null negative timezeone?\n",
    "\n",
    "# removing: out of scope. focus on AVG_HR.\n",
    "del daily__dev['RESTING_HR']\n",
    "del daily__dev['MIN_HR']\n",
    "del daily__dev['MAX_HR']\n",
    "\n"
   ]
  },
  {
   "cell_type": "markdown",
   "id": "986c974a-94e9-4204-8fc0-5d26ab144c57",
   "metadata": {},
   "source": [
    "###\n",
    "### Select users for next analysis\n",
    "###"
   ]
  },
  {
   "cell_type": "code",
   "execution_count": null,
   "id": "74299420-3462-42b9-a9ce-9de27ed7f135",
   "metadata": {},
   "outputs": [],
   "source": [
    "\n",
    "\n",
    "# Select first user in data\n",
    "# users_sample_list = 14064\n",
    "\n",
    "# Randomly sample N users\n",
    "# users_sample_list = daily__dev['FK_USER_ID'].sample(n=1000, random_state=88888888).to_list()\n",
    "# # use list from Sessions\n",
    "# print(f\"* Users sampled: {users_sample_list[:3]}\")\n",
    "\n",
    "# select sample of users\n",
    "# daily__user = daily__dev[daily__dev['FK_USER_ID'].isin(users_sample_list)]\n",
    "\n",
    "# or go full\n",
    "daily__user = daily__dev\n",
    "daily__user.reset_index(drop=True, inplace=True)\n",
    "print(f\"* Rows selected: {daily__user.shape[0]}\")\n",
    "\n"
   ]
  },
  {
   "cell_type": "code",
   "execution_count": null,
   "id": "a27675de-7209-436f-bd35-cbefadda1e6f",
   "metadata": {},
   "outputs": [],
   "source": [
    "\n",
    "\n",
    "#summary\n",
    "daily__user.describe()\n",
    "\n"
   ]
  },
  {
   "cell_type": "code",
   "execution_count": null,
   "id": "1720e602-aef7-4772-92c4-6a426995312a",
   "metadata": {},
   "outputs": [],
   "source": [
    "\n",
    "\n",
    "# write to file for analysis\n",
    "daily__user.to_csv('../data/01_review/daily__user.csv', index=False)\n",
    "\n"
   ]
  },
  {
   "cell_type": "code",
   "execution_count": null,
   "id": "3cbbd522-fb0a-49d3-9c46-6c210f63a84c",
   "metadata": {},
   "outputs": [],
   "source": [
    "\n",
    "\n",
    "# Preview\n",
    "daily__user.head(2)\n",
    "\n",
    "# 143 records\n",
    "# FK: PK_HEALTH_METRICS_HEART_ID\n",
    "\n"
   ]
  },
  {
   "cell_type": "markdown",
   "id": "a3e29906-f091-46d9-aa20-7cd769ad1c7c",
   "metadata": {},
   "source": [
    "#### **Insights for `Daily` Dataset**\n",
    "\n",
    "Dataset `Daily` is prepared:\n",
    "- Variables included are the User, the date, the Average HR, and the Source.\n",
    "- Several analysis can be performed from such data.\n",
    "\n"
   ]
  },
  {
   "cell_type": "markdown",
   "id": "d7b4d5fa-afae-49f5-a140-39670e166133",
   "metadata": {},
   "source": [
    "---\n",
    "##\n",
    "## Sessions\n",
    "##"
   ]
  },
  {
   "cell_type": "code",
   "execution_count": null,
   "id": "cc36c7c6-b96d-4bd3-a2a1-797d3fbbe91e",
   "metadata": {},
   "outputs": [],
   "source": [
    "\n",
    "\n",
    "# Load the data\n",
    "sessions__raw = pd.read_csv(\n",
    "    '../data/00_original/activity_sessions_2025-01-28.csv'\n",
    "# , index_col='PK_ACTIVITY_SESSION_ID'\n",
    ", low_memory=False  # DtypeWarning: Columns (13,14) have mixed types\n",
    ")\n",
    "\n",
    "# preview\n",
    "sessions__raw.head(2)\n",
    "\n"
   ]
  },
  {
   "cell_type": "code",
   "execution_count": null,
   "id": "174ac177-9789-487a-b071-47b326a2e5f9",
   "metadata": {},
   "outputs": [],
   "source": [
    "\n",
    "\n",
    "# working copy\n",
    "sessions__dev = sessions__raw.copy()\n",
    "\n"
   ]
  },
  {
   "cell_type": "code",
   "execution_count": null,
   "id": "e5dd780a-4404-423a-aeaf-bf59475182ac",
   "metadata": {},
   "outputs": [],
   "source": [
    "\n",
    "\n",
    "# review dataset\n",
    "sessions__dev.info()\n",
    "\n"
   ]
  },
  {
   "cell_type": "code",
   "execution_count": null,
   "id": "a3219f62-2027-465f-a54b-2856bb59b786",
   "metadata": {},
   "outputs": [],
   "source": [
    "\n",
    "\n",
    "# Check for missing data\n",
    "print(sessions__dev.isnull().sum())\n",
    "# INTENSITY                  684883\n",
    "# RATING                    1491032\n",
    "# RATING_ISSUE              1928737\n",
    "# RATING_ISSUE_MESSAGE      1930085\n",
    "\n"
   ]
  },
  {
   "cell_type": "code",
   "execution_count": null,
   "id": "04190b03-6907-407b-b00f-e35a0f96bf7b",
   "metadata": {},
   "outputs": [],
   "source": [
    "\n",
    "\n",
    "# include only valid rows\n",
    "sessions__dev = sessions__dev[sessions__dev['ROW_IS_VALID'] == 1]\n",
    "# delete redundant columns:\n",
    "del sessions__dev['ROW_IS_VALID']\n",
    "\n"
   ]
  },
  {
   "cell_type": "code",
   "execution_count": null,
   "id": "68cf690c-4da5-4152-8743-6ad2b1f50d40",
   "metadata": {},
   "outputs": [],
   "source": [
    "\n",
    "\n",
    "# include: only finished sessions\n",
    "sessions__dev = sessions__dev[sessions__dev['IS_FINISHED'] == 1]\n",
    "# delete redundant columns\n",
    "del sessions__dev['IS_FINISHED']\n",
    "\n"
   ]
  },
  {
   "cell_type": "code",
   "execution_count": null,
   "id": "38c2e623-bf54-4f83-bc2f-704efbd5b945",
   "metadata": {},
   "outputs": [],
   "source": [
    "\n",
    "\n",
    "# remove primary key, unused:\n",
    "del sessions__dev['PK_ACTIVITY_SESSION_ID']\n",
    "\n"
   ]
  },
  {
   "cell_type": "code",
   "execution_count": null,
   "id": "af02fc39-a672-4d65-a8ad-ce9dba6894f7",
   "metadata": {},
   "outputs": [],
   "source": [
    "\n",
    "\n",
    "# delete redundant system columns\n",
    "del sessions__dev['CREATED_DATE']  # end of session: out of scope\n",
    "del sessions__dev['LAST_MODIFIED_DATE']  # use for modifications: out of scope\n",
    "\n"
   ]
  },
  {
   "cell_type": "code",
   "execution_count": null,
   "id": "6a94a1e5-2929-4568-ab01-0090e3ecf014",
   "metadata": {},
   "outputs": [],
   "source": [
    "\n",
    "\n",
    "# Ratings: few records have such info: DECISION to remove from current analysis\n",
    "del sessions__dev['RATING']\n",
    "del sessions__dev['RATING_ISSUE']\n",
    "del sessions__dev['RATING_ISSUE_MESSAGE']\n",
    "\n"
   ]
  },
  {
   "cell_type": "code",
   "execution_count": null,
   "id": "37fce8bf-761f-4e45-88be-c35ea05349a5",
   "metadata": {},
   "outputs": [],
   "source": [
    "\n",
    "\n",
    "# FK_SYSTEM_PROGRAM_ID == FK_REFERENCE_ID?\n",
    "print(sessions__dev['FK_SYSTEM_PROGRAM_ID'][sessions__dev['FK_SYSTEM_PROGRAM_ID'] != sessions__dev['FK_REFERENCE_ID']].count())\n",
    "\n",
    "# FK_SYSTEM_PROGRAM_ID=0, when INTENSITY variable is populated.\n",
    "# So, FK_REFERENCE_ID is more specific.\n",
    "# DECISION: remove less specific variable\n",
    "del sessions__dev['FK_SYSTEM_PROGRAM_ID']\n",
    "\n"
   ]
  },
  {
   "cell_type": "code",
   "execution_count": null,
   "id": "908dc113-ceaf-47b2-af31-70db50a6b42d",
   "metadata": {},
   "outputs": [],
   "source": [
    "\n",
    "\n",
    "# convert to datetime \n",
    "sessions__dev['START_DATETIME'] = pd.to_datetime(sessions__dev['START_DATE'])\n",
    "sessions__dev['END_DATETIME'] = pd.to_datetime(sessions__dev['END_DATE'])\n",
    "\n",
    "# del sessions__dev['START_DATE']\n",
    "del sessions__dev['END_DATE']\n",
    "\n",
    "# extract dates from datetime\n",
    "sessions__dev['START_DATE'] = sessions__dev['START_DATETIME'].dt.date\n",
    "# sessions__dev['END_DATE'] = sessions__dev['END_DATETIME'].dt.date\n",
    "\n"
   ]
  },
  {
   "cell_type": "code",
   "execution_count": null,
   "id": "cecdcfda-d9b6-473a-b488-c2215890dc0b",
   "metadata": {},
   "outputs": [],
   "source": [
    "\n",
    "\n",
    "# Calc: Add time-based features for analysis\n",
    "sessions__dev['SESSION_DURATION'] = ( (sessions__dev['END_DATETIME'] - sessions__dev['START_DATETIME']).dt.total_seconds() / 60).round(2)\n",
    "# preview\n",
    "sessions__dev['SESSION_DURATION'].head(2)\n",
    "\n",
    "# drop used columns\n",
    "del sessions__dev['START_DATETIME']\n",
    "del sessions__dev['END_DATETIME']\n",
    "\n"
   ]
  },
  {
   "cell_type": "markdown",
   "id": "9273a8b0-21c0-4292-a745-74e4fcd8be85",
   "metadata": {},
   "source": [
    "###\n",
    "### Select users\n",
    "###"
   ]
  },
  {
   "cell_type": "code",
   "execution_count": null,
   "id": "9a18683b-5e53-4b69-b500-a970b32470d7",
   "metadata": {},
   "outputs": [],
   "source": [
    "\n",
    "# sample one: first\n",
    "# users_sample_list = 14064\n",
    "# sample from Daily: users\n",
    "# users_sample_list = [36899, 57417, 13844]\n",
    "# sample random\n",
    "# users_sample_list = sessions__dev['FK_USER_ID'].sample(n=3, random_state=88888888).to_list()\n",
    "# print(f\"* Selected users: {users_sample_list[:3]} ...\")\n",
    "\n",
    "# select data for sampled users\n",
    "# sessions__user = sessions__dev[sessions__dev['FK_USER_ID'].isin(users_sample_list)]\n",
    "\n",
    "# or go full\n",
    "sessions__user = sessions__dev\n",
    "print(f\"* Selected rows: {sessions__user.shape[0]}\")\n",
    "\n"
   ]
  },
  {
   "cell_type": "code",
   "execution_count": null,
   "id": "284d986d-10e6-4e9d-b343-2f2852913e45",
   "metadata": {},
   "outputs": [],
   "source": [
    "\n",
    "\n",
    "# check some basic statistics\n",
    "sessions__user.describe()\n",
    "\n"
   ]
  },
  {
   "cell_type": "code",
   "execution_count": null,
   "id": "1e0e44f3-4ea5-4bb5-a7ab-56e15f1a3901",
   "metadata": {},
   "outputs": [],
   "source": [
    "\n",
    "\n",
    "# write to file for analysis\n",
    "sessions__user.to_csv('../data/01_review/sessions__user.csv')\n",
    "\n"
   ]
  },
  {
   "cell_type": "markdown",
   "id": "b3b38268-0bdb-4d96-b318-af4b9747a839",
   "metadata": {},
   "source": [
    "\n",
    "\n",
    "### Insights\n",
    "\n",
    "Sessions of Selected Users were exported to a file and reviewed manually.\n",
    "- Two users have data.\n",
    "- One used has no data.\n",
    "\n"
   ]
  },
  {
   "cell_type": "code",
   "execution_count": null,
   "id": "49612980-eea5-4927-a1eb-f569d4ad3c87",
   "metadata": {},
   "outputs": [],
   "source": [
    "\n",
    "\n",
    "sessions__user.head(2)\n",
    "\n"
   ]
  },
  {
   "cell_type": "raw",
   "id": "4c3ca174-87de-452b-be78-4294014303c2",
   "metadata": {},
   "source": [
    "##\n",
    "## Samples: skipping\n",
    "##"
   ]
  },
  {
   "cell_type": "markdown",
   "id": "3f649a90-06c3-49c1-b8d2-e28e13d700ab",
   "metadata": {},
   "source": [
    "##\n",
    "## Step 3: Check the column names to ensure foreign key matching\n",
    "##"
   ]
  },
  {
   "cell_type": "code",
   "execution_count": null,
   "id": "0fe129c6-2505-4802-a1f5-f584e9cf0997",
   "metadata": {},
   "outputs": [],
   "source": [
    "\n",
    "\n",
    "# Clean and validate the column names\n",
    "sessions__user.columns = sessions__user.columns.str.strip()  # Remove any extra spaces\n",
    "daily__user.columns = daily__user.columns.str.strip()\n",
    "\n",
    "print(\"Sessions Columns:\", sessions__user.columns)\n",
    "print(\"Daily Columns:\", daily__user.columns)\n",
    "\n"
   ]
  },
  {
   "cell_type": "markdown",
   "id": "81ceabe1-ba7f-4c39-b1f4-7c9d4bbb1dea",
   "metadata": {},
   "source": [
    "#\n",
    "# Step 4. Merge Sessions with Daily measurements\n",
    "#"
   ]
  },
  {
   "cell_type": "code",
   "execution_count": null,
   "id": "6c5ea952-dce3-4dd3-85b0-f0294fdd75c6",
   "metadata": {},
   "outputs": [],
   "source": [
    "\n",
    "\n",
    "merged_data = pd.merge(\n",
    "    daily__user\n",
    "    , sessions__user\n",
    "    , left_on=['FK_USER_ID', 'DAILY_DATE']\n",
    "    , right_on=['FK_USER_ID', 'START_DATE']\n",
    "    , how='left'\n",
    ")\n",
    "# drop START_DATE\n",
    "del merged_data['START_DATE']\n",
    "print(f\"Data merged: {merged_data.shape[0]} rows and {merged_data.shape[1]} columns.\")\n",
    "\n"
   ]
  },
  {
   "cell_type": "code",
   "execution_count": null,
   "id": "47646ff3-7450-4dc7-b2ee-7fb05e92afa6",
   "metadata": {},
   "outputs": [],
   "source": [
    "\n",
    "\n",
    "# data structure\n",
    "merged_data.info()\n",
    "\n"
   ]
  },
  {
   "cell_type": "markdown",
   "id": "4be60459-b03f-4b47-a747-4639fadad539",
   "metadata": {},
   "source": [
    "#\n",
    "# Step 5: Data exploration to understand the relationships and values\n",
    "#\n"
   ]
  },
  {
   "cell_type": "code",
   "execution_count": null,
   "id": "abd60be9-0dad-41ae-8991-f2acc61cfbea",
   "metadata": {},
   "outputs": [],
   "source": [
    "\n",
    "\n",
    "merged_data.head(2)\n",
    "\n"
   ]
  },
  {
   "cell_type": "markdown",
   "id": "0566eff6-dcd6-43cc-a41c-06bd9ec1e5b1",
   "metadata": {},
   "source": [
    "\n",
    "\n",
    "### Manual Review\n",
    "\n",
    "Analysis of merged Daily and Sessions data for selected users:\n",
    "\n",
    "- 13844: stimulated 0 times\n",
    "- 36899: stimulated 0 times\n",
    "- 57417: stimulated multiple times\n",
    "\n"
   ]
  },
  {
   "cell_type": "markdown",
   "id": "67b42cc3-413f-4f66-8971-0acb902a1a63",
   "metadata": {},
   "source": [
    "#\n",
    "# Step 6: Filter samples based on the session start and end dates (skip)\n",
    "#"
   ]
  },
  {
   "cell_type": "raw",
   "id": "e75392fd-0ed0-4c2c-ac55-9c208e19748c",
   "metadata": {},
   "source": [
    "\n",
    "\n",
    "# preview before\n",
    "merged_data[merged_data['START_DATE'] == merged_data['DAILY_DATE']].head(2)\n",
    "\n",
    "# Ensure that sample data falls within the session time window\n",
    "# merged_data = merged_data[merged_data['START_DATE'] == merged_data['DAILY_DATE']]\n",
    "\n",
    "# preview after\n",
    "merged_data.head(2)\n",
    "\n"
   ]
  },
  {
   "cell_type": "code",
   "execution_count": null,
   "id": "03bdd936-62ef-4b00-bea8-2bb8025c8bd6",
   "metadata": {
    "scrolled": true
   },
   "outputs": [],
   "source": [
    "\n",
    "\n",
    "merged_data.shape\n",
    "\n"
   ]
  },
  {
   "cell_type": "markdown",
   "id": "0afada41-cc2d-4db2-9334-2e5d6ac6d8cd",
   "metadata": {},
   "source": [
    "#\n",
    "# Step 7: Data Cleaning and Transformation\n",
    "#"
   ]
  },
  {
   "cell_type": "code",
   "execution_count": null,
   "id": "e0dad319-6fd1-4153-a357-aeb35ad90ee7",
   "metadata": {},
   "outputs": [],
   "source": [
    "\n",
    "\n",
    "# Handle missing values and data anomalies\n",
    "X_to_clean = ['AVG_HR'] #, 'DATE']\n",
    "merged_data.dropna(subset=X_to_clean, inplace=True)\n",
    "merged_data.shape\n",
    "\n",
    "\n"
   ]
  },
  {
   "cell_type": "markdown",
   "id": "80de233c-bea8-4c40-99d4-aa95721aacd8",
   "metadata": {},
   "source": [
    "##\n",
    "## Step 8: Normalize the AVG_HR\n",
    "##"
   ]
  },
  {
   "cell_type": "code",
   "execution_count": null,
   "id": "7a2a12ce-5381-471b-b23c-93c4061ac478",
   "metadata": {},
   "outputs": [],
   "source": [
    "\n",
    "\n",
    "merged_data['AVG_HR'] = merged_data['AVG_HR'].round(1)  # Round to 1 decimal place\n",
    "# Alternatively, if you want integers:\n",
    "# merged_data['AVG_HEART_RATE'] = merged_data['AVG_HEART_RATE'].astype(int)\n",
    "merged_data.head(2)\n",
    "\n"
   ]
  },
  {
   "cell_type": "markdown",
   "id": "8afdb1ac-3f74-49d7-880e-c4dffd5fe693",
   "metadata": {},
   "source": [
    "#\n",
    "# Step 9: Feature Engineering\n",
    "#"
   ]
  },
  {
   "cell_type": "code",
   "execution_count": null,
   "id": "8a6c1e7a-4536-45e3-a793-70f5b333e863",
   "metadata": {},
   "outputs": [],
   "source": [
    "\n",
    "\n",
    "# Calc: `IS_INTENSITY`: 1=Yes, 0=No\n",
    "x_in = 'INTENSITY'\n",
    "x_out = 'IS_INTENSITY'\n",
    "if x_in in merged_data.columns:\n",
    "    merged_data.loc[merged_data[x_in].isna(), x_out] = 0\n",
    "    merged_data.loc[~merged_data[x_in].isna(), x_out] = 1\n",
    "    merged_data[x_out] = merged_data[x_out].astype(int)\n",
    "    merged_data.drop(columns=x_in, inplace=True)\n",
    "\n",
    "merged_data.head(2)\n",
    "\n"
   ]
  },
  {
   "cell_type": "code",
   "execution_count": null,
   "id": "b10ac464-60b4-4b69-b192-c16cd5e9a10e",
   "metadata": {},
   "outputs": [],
   "source": [
    "\n",
    "\n",
    "# export merged data\n",
    "merged_data.to_csv('../data/01_review/merged_data.csv')\n",
    "\n"
   ]
  },
  {
   "cell_type": "markdown",
   "id": "26285c69-0f0b-4072-a0c9-e126623e8655",
   "metadata": {},
   "source": [
    "##\n",
    "## Step 10: Identify the impact of X stimulation on heart rate\n",
    "##"
   ]
  },
  {
   "cell_type": "code",
   "execution_count": null,
   "id": "7eb9b4eb-dbef-49ea-afc4-656c333b8a74",
   "metadata": {},
   "outputs": [],
   "source": [
    "import seaborn as sns\n",
    "import matplotlib.pyplot as plt\n",
    "\n",
    "# set chart size\n",
    "plt.rcParams[\"figure.figsize\"] = 5, 3\n",
    "sns.set_theme(rc={'figure.figsize':(5, 3)})\n",
    "\n"
   ]
  },
  {
   "cell_type": "code",
   "execution_count": null,
   "id": "2f3c136b-eabb-49e1-a5e6-8ea8a9af3fcb",
   "metadata": {
    "scrolled": true
   },
   "outputs": [],
   "source": [
    "\n",
    "\n",
    "sns.boxplot(x='IS_INTENSITY', y='AVG_HR', data=merged_data)\n",
    "# plt.title('AVG_HR by Stimulation (1=Yes)')\n",
    "plt.show()\n",
    "\n"
   ]
  },
  {
   "cell_type": "code",
   "execution_count": null,
   "id": "5e081b50-5c28-47ed-9b78-f5a9b90648a7",
   "metadata": {
    "scrolled": true
   },
   "outputs": [],
   "source": [
    "\n",
    "\n",
    "# Heart by user:\n",
    "merged_data.groupby(['FK_USER_ID', 'IS_INTENSITY'])['AVG_HR'].mean()\n",
    "\n"
   ]
  },
  {
   "cell_type": "markdown",
   "id": "390b3041-980d-4071-bc04-3cd6b5350167",
   "metadata": {},
   "source": [
    "#\n",
    "# Advanced statistics: compare Stimulated and non-Stimulated\n",
    "#"
   ]
  },
  {
   "cell_type": "code",
   "execution_count": null,
   "id": "1f646c16-1a42-4c22-bf40-5699a3f967db",
   "metadata": {},
   "outputs": [],
   "source": [
    "from scipy import stats\n",
    "\n",
    "x = 'IS_INTENSITY'\n",
    "y = 'AVG_HR'\n",
    "\n",
    "# Separate performance scores by gender\n",
    "stimulated_Y_performance = merged_data[merged_data[x] == 1][y]\n",
    "stimulated_N_performance = merged_data[merged_data[x] == 0][y]\n",
    "\n",
    "# Perform a t-test for performance scores by gender \n",
    "t_stat_performance, p_val_performance = stats.ttest_ind(stimulated_Y_performance, stimulated_N_performance)\n",
    "print(f\"\\nT-test for y={y} by x={x}:\")\n",
    "print(f\"T-statistic: {np.round(t_stat_performance, 3)}, p-value: {np.round(p_val_performance, 3)}\")\n",
    "\n",
    "# Check if the p-value is less than 0.05 for significance\n",
    "if p_val_performance < 0.05: print(f\"There is a significant difference.\")\n",
    "else: print(f\"No significant difference.\")\n",
    "\n"
   ]
  },
  {
   "cell_type": "code",
   "execution_count": null,
   "id": "69a48a9e-ea65-4b35-ab16-3d2da5406947",
   "metadata": {},
   "outputs": [],
   "source": [
    "\n",
    "\n",
    "# For simplicity, we assume sessions with 'Intensity' involve stimulation: already filtered\n",
    "stimulated_data = merged_data[['IS_INTENSITY', 'AVG_HR', 'FK_USER_ID', 'SESSION_DURATION']]\n",
    "stimulated_data.head(2)\n",
    "\n"
   ]
  },
  {
   "cell_type": "code",
   "execution_count": null,
   "id": "8742846e-3b90-4f31-95b1-e6002c8d0d9d",
   "metadata": {},
   "outputs": [],
   "source": [
    "\n",
    "\n",
    "# Primary Question: Does X stimulation affect heart rate?\n",
    "stimulated_data['HR_impact'] = stimulated_data.groupby(['FK_USER_ID', 'IS_INTENSITY'])['AVG_HR'].diff()  # Difference in HR\n",
    "stimulated_data['HR_impact']\n",
    "\n"
   ]
  },
  {
   "cell_type": "markdown",
   "id": "2f15e7b5-08df-4ded-8d89-f4137262b1b4",
   "metadata": {},
   "source": [
    "##\n",
    "## Step 11: Aggregate and analyze data\n",
    "##"
   ]
  },
  {
   "cell_type": "code",
   "execution_count": null,
   "id": "e55b1905-661e-496b-bccf-3fecb235f175",
   "metadata": {},
   "outputs": [],
   "source": [
    "\n",
    "\n",
    "# Aggregate average HR change for each user and session\n",
    "HR_analysis = stimulated_data.groupby('FK_USER_ID').agg(\n",
    "    avg_impact_hr=('HR_impact', 'mean'),\n",
    "    max_impact_hr=('HR_impact', 'max'),\n",
    "    session_count=('IS_INTENSITY', 'count'),\n",
    "    avg_session=('SESSION_DURATION', 'mean'),\n",
    ").reset_index()\n",
    "\n",
    "print(f\"* Users in HR analysis: {HR_analysis.shape[0]}\")\n",
    "\n"
   ]
  },
  {
   "cell_type": "code",
   "execution_count": null,
   "id": "410105a8-aecc-4d04-b5b5-df36db10bedf",
   "metadata": {},
   "outputs": [],
   "source": [
    "\n",
    "\n",
    "# Additional Insights: Identify any patterns based on time or other factors\n",
    "HR_analysis['impact_sign'] = np.sign(HR_analysis['avg_impact_hr'])  # Positive or Negative Impact\n",
    "\n",
    "print(\"HR Analysis - Impact of X Stimulation:\")\n",
    "print(HR_analysis.head())\n",
    "\n"
   ]
  },
  {
   "cell_type": "markdown",
   "id": "2fc9af02-4593-4473-8567-d4a680a43385",
   "metadata": {},
   "source": [
    "##\n",
    "## Step 12: Save the results or create a detailed report\n",
    "##"
   ]
  },
  {
   "cell_type": "code",
   "execution_count": null,
   "id": "9423ec51-399f-4eb7-afda-9f18f812c9e6",
   "metadata": {},
   "outputs": [],
   "source": [
    "\n",
    "\n",
    "x = \"session_count\"\n",
    "SESSIONS_COUNT_LIMIT = 10 \n",
    "\n",
    "# before\n",
    "count_before = HR_analysis.shape[0]\n",
    "\n",
    "# some users have few sessions\n",
    "HR_analysis = HR_analysis[HR_analysis[x] >= SESSIONS_COUNT_LIMIT]\n",
    "\n",
    "# after\n",
    "count_after = HR_analysis.shape[0]\n",
    "\n",
    "print(f\"* Filter by x={x}: was {count_before}, now {count_after}\")\n",
    "\n"
   ]
  },
  {
   "cell_type": "code",
   "execution_count": null,
   "id": "5ed677a8-c861-4de6-b366-6ce552e2cce6",
   "metadata": {},
   "outputs": [],
   "source": [
    "\n",
    "\n",
    "HR_analysis.to_csv('../data/01_review/HR_analysis_results.csv', index=False)\n",
    "\n"
   ]
  },
  {
   "cell_type": "markdown",
   "id": "bfbb0a9e-54c3-4ea2-bbfc-f782fc60fcc9",
   "metadata": {},
   "source": [
    "##\n",
    "## Step 13: Report\n",
    "##"
   ]
  },
  {
   "cell_type": "code",
   "execution_count": null,
   "id": "5399d6e3-f0fd-4188-8572-ad3467410527",
   "metadata": {},
   "outputs": [],
   "source": [
    "\n",
    "\n",
    "report = \"\"\"\n",
    "@title : Impact of Stimulation on Heart Rate\n",
    "@date  : {report_date}\n",
    "@author: Aleksandras Urbonas\n",
    "\n",
    "1. Primary Question: Does X stimulation affect heart rate metrics?\n",
    "- Based on the analysis, we found that users (N={N_subjects}) who participated in the 'Program' - indicating stimulation - (at least S={SESSIONS_COUNT_LIMIT} sessions) - showed an average HR change of {avg_impact:.2f} bpm. \n",
    "- The impact varied across sessions, with the maximum observed change being {max_impact:.2f} bpm.\n",
    "\n",
    "2. Secondary Insights:\n",
    "- Additional factors influencing HR change include session duration and time of day (further analysis needed for seasonality patterns).\n",
    "- A significant amount of time was dedicated to data exploration and schema understanding. A more detailed schema and business process description can be of help.\n",
    "- Samples data contains ~70 mln records, which slows the analysis and it is recommended to process such data in SQL, for example, performing aggregations by user over different periods of time.\n",
    "- Data validation was completed: some records were excluded from analysis.\n",
    "- Data was analysed using Python, allowing the analysis to be repeated.\n",
    "\"\"\".format(\n",
    "    N_subjects = HR_analysis['FK_USER_ID'].count()\n",
    "    , avg_impact=HR_analysis['avg_impact_hr'].mean()\n",
    "    , max_impact=HR_analysis['max_impact_hr'].max()\n",
    "    , report_date=pd.to_datetime('today').strftime('%Y-%m-%d')\n",
    "    , SESSIONS_COUNT_LIMIT=SESSIONS_COUNT_LIMIT\n",
    "    , avg_session=HR_analysis['avg_session'].max()\n",
    ")\n",
    "\n",
    "\n",
    "print(report)\n",
    "\n"
   ]
  },
  {
   "cell_type": "code",
   "execution_count": null,
   "id": "1d4b5380-4e1d-4567-88a5-7dbf13883edf",
   "metadata": {},
   "outputs": [],
   "source": [
    "\n",
    "\n",
    "# save report as file:\n",
    "with open('../report.md', 'w') as _file:\n",
    "    _file.write(report)\n",
    "\n"
   ]
  },
  {
   "cell_type": "markdown",
   "id": "eba80709-8fc7-4c90-98f2-7c04c011884a",
   "metadata": {},
   "source": [
    "### Insights\n",
    "\n",
    "Several users (for example, 1532) has no average session duration: such records must be excluded.\n",
    "\n"
   ]
  },
  {
   "cell_type": "code",
   "execution_count": null,
   "id": "6d776908-96a5-47d3-963f-34dfdb497d66",
   "metadata": {},
   "outputs": [],
   "source": [
    "\n",
    "\n",
    "# analysis data for a single user without [avg_session] \n",
    "HR_analysis[HR_analysis['FK_USER_ID']==1532]\n",
    "\n"
   ]
  },
  {
   "cell_type": "code",
   "execution_count": null,
   "id": "b50bb544-1ffd-4085-972b-35aa176a7167",
   "metadata": {},
   "outputs": [],
   "source": [
    "\n",
    "\n",
    "# find all users without [avg_session]\n",
    "HR_analysis[HR_analysis['avg_session'].isna()]\n",
    "# 326 rows\n",
    "\n"
   ]
  }
 ],
 "metadata": {
  "kernelspec": {
   "display_name": "Python 3 (ipykernel)",
   "language": "python",
   "name": "python3"
  },
  "language_info": {
   "codemirror_mode": {
    "name": "ipython",
    "version": 3
   },
   "file_extension": ".py",
   "mimetype": "text/x-python",
   "name": "python",
   "nbconvert_exporter": "python",
   "pygments_lexer": "ipython3",
   "version": "3.12.1"
  }
 },
 "nbformat": 4,
 "nbformat_minor": 5
}
